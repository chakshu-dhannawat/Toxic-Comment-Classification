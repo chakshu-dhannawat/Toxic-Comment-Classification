{
  "cells": [
    {
      "cell_type": "markdown",
      "metadata": {
        "id": "view-in-github",
        "colab_type": "text"
      },
      "source": [
        "<a href=\"https://colab.research.google.com/github/chakshu-dhannawat/Toxic-Comment-Classification/blob/main/Toxic_Comment_Classification.ipynb\" target=\"_parent\"><img src=\"https://colab.research.google.com/assets/colab-badge.svg\" alt=\"Open In Colab\"/></a>"
      ]
    },
    {
      "cell_type": "code",
      "execution_count": null,
      "metadata": {
        "id": "YgVK-TCaSI7v"
      },
      "outputs": [],
      "source": [
        "#Importing Necessary Libraries\n",
        "import numpy as np\n",
        "import pandas as pd\n",
        "import matplotlib.pyplot as plt\n",
        "import seaborn as sns\n",
        "import sklearn\n",
        "from scipy import linalg\n",
        "import numpy as np\n",
        "import matplotlib as mpl\n",
        "import matplotlib.pyplot as plt\n",
        "from sklearn.model_selection import train_test_split\n",
        "from sklearn.metrics import accuracy_score\n",
        "from lightgbm import LGBMClassifier\n",
        "from sklearn.discriminant_analysis import QuadraticDiscriminantAnalysis as QDA\n",
        "import math\n",
        "from sklearn.tree import DecisionTreeClassifier\n",
        "from sklearn.model_selection import KFold\n",
        "from sklearn.model_selection import cross_val_score\n",
        "from sklearn.naive_bayes import GaussianNB\n",
        "from sklearn.naive_bayes import MultinomialNB\n",
        "from sklearn.ensemble import RandomForestClassifier\n",
        "from sklearn.metrics import f1_score\n",
        "from xgboost.sklearn import XGBClassifier\n",
        "from sklearn.metrics import classification_report\n",
        "from sklearn.metrics import confusion_matrix\n",
        "from sklearn.metrics import accuracy_score\n",
        "from sklearn.metrics import roc_curve\n",
        "import numpy as np\n",
        "import pandas as pd\n",
        "import matplotlib.pyplot as plt\n",
        "import seaborn as sns\n",
        "import re\n",
        "from wordcloud import STOPWORDS\n",
        "import nltk\n",
        "from nltk.corpus import stopwords\n",
        "from nltk.stem import SnowballStemmer, PorterStemmer\n",
        "import math\n",
        "from collections import Counter\n",
        "from sklearn.model_selection import train_test_split,cross_val_score\n",
        "import string\n",
        "import os\n",
        "import pickle\n",
        "from sklearn.feature_extraction.text import TfidfTransformer\n",
        "from sklearn.feature_extraction.text import TfidfVectorizer\n",
        "from sklearn.feature_extraction.text import CountVectorizer\n",
        "from sklearn.linear_model import LogisticRegression\n",
        "from sklearn.neighbors import KNeighborsClassifier\n",
        "from numpy import loadtxt\n",
        "from keras.models import Sequential\n",
        "from keras.layers import Dense\n",
        "import scipy\n",
        "from prettytable import PrettyTable\n",
        "import warnings\n",
        "warnings.filterwarnings('ignore')"
      ]
    },
    {
      "cell_type": "code",
      "execution_count": null,
      "metadata": {
        "colab": {
          "base_uri": "https://localhost:8080/"
        },
        "id": "oQZ5l3SFSN3Y",
        "outputId": "bf9b337d-1ddb-4395-c306-c8242ff34182"
      },
      "outputs": [
        {
          "output_type": "stream",
          "name": "stdout",
          "text": [
            "Mounted at /content/drive\n"
          ]
        }
      ],
      "source": [
        "from google.colab import drive\n",
        "drive.mount('/content/drive')"
      ]
    },
    {
      "cell_type": "code",
      "execution_count": null,
      "metadata": {
        "colab": {
          "base_uri": "https://localhost:8080/"
        },
        "id": "4Vu89gc3SQj0",
        "outputId": "f5635ee5-dd73-4ca2-f61b-0c80f618ec5a"
      },
      "outputs": [
        {
          "output_type": "stream",
          "name": "stdout",
          "text": [
            "[nltk_data] Downloading package stopwords to /root/nltk_data...\n",
            "[nltk_data]   Unzipping corpora/stopwords.zip.\n"
          ]
        },
        {
          "output_type": "execute_result",
          "data": {
            "text/plain": [
              "True"
            ]
          },
          "metadata": {},
          "execution_count": 3
        }
      ],
      "source": [
        "import nltk\n",
        "nltk.download('stopwords')"
      ]
    },
    {
      "cell_type": "markdown",
      "metadata": {
        "id": "xOsa0t7VSZaI"
      },
      "source": [
        "##Loading Data"
      ]
    },
    {
      "cell_type": "code",
      "execution_count": null,
      "metadata": {
        "id": "1DeaC3NXSWIG"
      },
      "outputs": [],
      "source": [
        "df = pd.read_csv(\"/content/drive/MyDrive/PRML_CourseProject_ToxicComment/all_data.csv\")"
      ]
    },
    {
      "cell_type": "code",
      "execution_count": null,
      "metadata": {
        "colab": {
          "base_uri": "https://localhost:8080/"
        },
        "id": "RQ2bv69SSbHa",
        "outputId": "dbd42985-82e1-4127-b9ef-ab05ebd46e3e"
      },
      "outputs": [
        {
          "output_type": "execute_result",
          "data": {
            "text/plain": [
              "id                                           0\n",
              "comment_text                                 1\n",
              "split                                        0\n",
              "created_date                                 0\n",
              "publication_id                               0\n",
              "parent_id                               864807\n",
              "article_id                                   0\n",
              "rating                                       0\n",
              "funny                                        0\n",
              "wow                                          0\n",
              "sad                                          0\n",
              "likes                                        0\n",
              "disagree                                     0\n",
              "toxicity                                     0\n",
              "severe_toxicity                              0\n",
              "obscene                                      0\n",
              "sexual_explicit                              0\n",
              "identity_attack                              0\n",
              "insult                                       0\n",
              "threat                                       0\n",
              "male                                   1551516\n",
              "female                                 1551516\n",
              "transgender                            1551516\n",
              "other_gender                           1551516\n",
              "heterosexual                           1551516\n",
              "homosexual_gay_or_lesbian              1551516\n",
              "bisexual                               1551516\n",
              "other_sexual_orientation               1551516\n",
              "christian                              1551516\n",
              "jewish                                 1551516\n",
              "muslim                                 1551516\n",
              "hindu                                  1551516\n",
              "buddhist                               1551516\n",
              "atheist                                1551516\n",
              "other_religion                         1551516\n",
              "black                                  1551516\n",
              "white                                  1551516\n",
              "asian                                  1551516\n",
              "latino                                 1551516\n",
              "other_race_or_ethnicity                1551516\n",
              "physical_disability                    1551516\n",
              "intellectual_or_learning_disability    1551516\n",
              "psychiatric_or_mental_illness          1551516\n",
              "other_disability                       1551516\n",
              "identity_annotator_count                     0\n",
              "toxicity_annotator_count                     0\n",
              "dtype: int64"
            ]
          },
          "metadata": {},
          "execution_count": 5
        }
      ],
      "source": [
        "df.isna().sum()"
      ]
    },
    {
      "cell_type": "code",
      "execution_count": null,
      "metadata": {
        "id": "88F_C-DiSdpT"
      },
      "outputs": [],
      "source": [
        "df_new = df[['comment_text','severe_toxicity', 'obscene', 'threat', 'identity_attack', 'insult','sexual_explicit', 'funny', 'toxicity']]"
      ]
    },
    {
      "cell_type": "code",
      "execution_count": null,
      "metadata": {
        "id": "dYjkN1bTShA7"
      },
      "outputs": [],
      "source": [
        "df_new.dropna(axis=0, inplace=True)"
      ]
    },
    {
      "cell_type": "code",
      "execution_count": null,
      "metadata": {
        "colab": {
          "base_uri": "https://localhost:8080/"
        },
        "id": "RUWIa7YXSjYu",
        "outputId": "96a28832-2d9b-4b23-f5d8-fdd69006c149"
      },
      "outputs": [
        {
          "output_type": "execute_result",
          "data": {
            "text/plain": [
              "comment_text       0\n",
              "severe_toxicity    0\n",
              "obscene            0\n",
              "threat             0\n",
              "identity_attack    0\n",
              "insult             0\n",
              "sexual_explicit    0\n",
              "funny              0\n",
              "toxicity           0\n",
              "dtype: int64"
            ]
          },
          "metadata": {},
          "execution_count": 13
        }
      ],
      "source": [
        "df_new.isna().sum()"
      ]
    },
    {
      "cell_type": "markdown",
      "metadata": {
        "id": "XmW_ypDTSmKz"
      },
      "source": [
        "##Visualization of data"
      ]
    },
    {
      "cell_type": "code",
      "execution_count": null,
      "metadata": {
        "colab": {
          "base_uri": "https://localhost:8080/",
          "height": 206
        },
        "id": "9iUs-yUMSlsf",
        "outputId": "29f681f9-9ca9-4751-feb3-a01d559826c7"
      },
      "outputs": [
        {
          "data": {
            "text/html": [
              "\n",
              "  <div id=\"df-e18627a3-479a-4ad3-bd42-0f48224c3e59\">\n",
              "    <div class=\"colab-df-container\">\n",
              "      <div>\n",
              "<style scoped>\n",
              "    .dataframe tbody tr th:only-of-type {\n",
              "        vertical-align: middle;\n",
              "    }\n",
              "\n",
              "    .dataframe tbody tr th {\n",
              "        vertical-align: top;\n",
              "    }\n",
              "\n",
              "    .dataframe thead th {\n",
              "        text-align: right;\n",
              "    }\n",
              "</style>\n",
              "<table border=\"1\" class=\"dataframe\">\n",
              "  <thead>\n",
              "    <tr style=\"text-align: right;\">\n",
              "      <th></th>\n",
              "      <th>comment_text</th>\n",
              "      <th>severe_toxicity</th>\n",
              "      <th>obscene</th>\n",
              "      <th>threat</th>\n",
              "      <th>identity_attack</th>\n",
              "      <th>insult</th>\n",
              "      <th>sexual_explicit</th>\n",
              "      <th>funny</th>\n",
              "      <th>toxicity</th>\n",
              "    </tr>\n",
              "  </thead>\n",
              "  <tbody>\n",
              "    <tr>\n",
              "      <th>0</th>\n",
              "      <td>He got his money... now he lies in wait till a...</td>\n",
              "      <td>0.044776</td>\n",
              "      <td>0.089552</td>\n",
              "      <td>0.014925</td>\n",
              "      <td>0.000000</td>\n",
              "      <td>0.343284</td>\n",
              "      <td>0.014925</td>\n",
              "      <td>0</td>\n",
              "      <td>0.373134</td>\n",
              "    </tr>\n",
              "    <tr>\n",
              "      <th>1</th>\n",
              "      <td>Mad dog will surely put the liberals in mental...</td>\n",
              "      <td>0.013158</td>\n",
              "      <td>0.065789</td>\n",
              "      <td>0.065789</td>\n",
              "      <td>0.092105</td>\n",
              "      <td>0.565789</td>\n",
              "      <td>0.013158</td>\n",
              "      <td>0</td>\n",
              "      <td>0.605263</td>\n",
              "    </tr>\n",
              "    <tr>\n",
              "      <th>2</th>\n",
              "      <td>And Trump continues his lifelong cowardice by ...</td>\n",
              "      <td>0.015873</td>\n",
              "      <td>0.031746</td>\n",
              "      <td>0.000000</td>\n",
              "      <td>0.047619</td>\n",
              "      <td>0.666667</td>\n",
              "      <td>0.000000</td>\n",
              "      <td>1</td>\n",
              "      <td>0.666667</td>\n",
              "    </tr>\n",
              "    <tr>\n",
              "      <th>3</th>\n",
              "      <td>\"while arresting a man for resisting arrest\".\\...</td>\n",
              "      <td>0.065789</td>\n",
              "      <td>0.552632</td>\n",
              "      <td>0.105263</td>\n",
              "      <td>0.000000</td>\n",
              "      <td>0.684211</td>\n",
              "      <td>0.592105</td>\n",
              "      <td>0</td>\n",
              "      <td>0.815789</td>\n",
              "    </tr>\n",
              "    <tr>\n",
              "      <th>4</th>\n",
              "      <td>Tucker and Paul are both total bad ass mofo's.</td>\n",
              "      <td>0.037500</td>\n",
              "      <td>0.337500</td>\n",
              "      <td>0.000000</td>\n",
              "      <td>0.037500</td>\n",
              "      <td>0.487500</td>\n",
              "      <td>0.275000</td>\n",
              "      <td>0</td>\n",
              "      <td>0.550000</td>\n",
              "    </tr>\n",
              "  </tbody>\n",
              "</table>\n",
              "</div>\n",
              "      <button class=\"colab-df-convert\" onclick=\"convertToInteractive('df-e18627a3-479a-4ad3-bd42-0f48224c3e59')\"\n",
              "              title=\"Convert this dataframe to an interactive table.\"\n",
              "              style=\"display:none;\">\n",
              "        \n",
              "  <svg xmlns=\"http://www.w3.org/2000/svg\" height=\"24px\"viewBox=\"0 0 24 24\"\n",
              "       width=\"24px\">\n",
              "    <path d=\"M0 0h24v24H0V0z\" fill=\"none\"/>\n",
              "    <path d=\"M18.56 5.44l.94 2.06.94-2.06 2.06-.94-2.06-.94-.94-2.06-.94 2.06-2.06.94zm-11 1L8.5 8.5l.94-2.06 2.06-.94-2.06-.94L8.5 2.5l-.94 2.06-2.06.94zm10 10l.94 2.06.94-2.06 2.06-.94-2.06-.94-.94-2.06-.94 2.06-2.06.94z\"/><path d=\"M17.41 7.96l-1.37-1.37c-.4-.4-.92-.59-1.43-.59-.52 0-1.04.2-1.43.59L10.3 9.45l-7.72 7.72c-.78.78-.78 2.05 0 2.83L4 21.41c.39.39.9.59 1.41.59.51 0 1.02-.2 1.41-.59l7.78-7.78 2.81-2.81c.8-.78.8-2.07 0-2.86zM5.41 20L4 18.59l7.72-7.72 1.47 1.35L5.41 20z\"/>\n",
              "  </svg>\n",
              "      </button>\n",
              "      \n",
              "  <style>\n",
              "    .colab-df-container {\n",
              "      display:flex;\n",
              "      flex-wrap:wrap;\n",
              "      gap: 12px;\n",
              "    }\n",
              "\n",
              "    .colab-df-convert {\n",
              "      background-color: #E8F0FE;\n",
              "      border: none;\n",
              "      border-radius: 50%;\n",
              "      cursor: pointer;\n",
              "      display: none;\n",
              "      fill: #1967D2;\n",
              "      height: 32px;\n",
              "      padding: 0 0 0 0;\n",
              "      width: 32px;\n",
              "    }\n",
              "\n",
              "    .colab-df-convert:hover {\n",
              "      background-color: #E2EBFA;\n",
              "      box-shadow: 0px 1px 2px rgba(60, 64, 67, 0.3), 0px 1px 3px 1px rgba(60, 64, 67, 0.15);\n",
              "      fill: #174EA6;\n",
              "    }\n",
              "\n",
              "    [theme=dark] .colab-df-convert {\n",
              "      background-color: #3B4455;\n",
              "      fill: #D2E3FC;\n",
              "    }\n",
              "\n",
              "    [theme=dark] .colab-df-convert:hover {\n",
              "      background-color: #434B5C;\n",
              "      box-shadow: 0px 1px 3px 1px rgba(0, 0, 0, 0.15);\n",
              "      filter: drop-shadow(0px 1px 2px rgba(0, 0, 0, 0.3));\n",
              "      fill: #FFFFFF;\n",
              "    }\n",
              "  </style>\n",
              "\n",
              "      <script>\n",
              "        const buttonEl =\n",
              "          document.querySelector('#df-e18627a3-479a-4ad3-bd42-0f48224c3e59 button.colab-df-convert');\n",
              "        buttonEl.style.display =\n",
              "          google.colab.kernel.accessAllowed ? 'block' : 'none';\n",
              "\n",
              "        async function convertToInteractive(key) {\n",
              "          const element = document.querySelector('#df-e18627a3-479a-4ad3-bd42-0f48224c3e59');\n",
              "          const dataTable =\n",
              "            await google.colab.kernel.invokeFunction('convertToInteractive',\n",
              "                                                     [key], {});\n",
              "          if (!dataTable) return;\n",
              "\n",
              "          const docLinkHtml = 'Like what you see? Visit the ' +\n",
              "            '<a target=\"_blank\" href=https://colab.research.google.com/notebooks/data_table.ipynb>data table notebook</a>'\n",
              "            + ' to learn more about interactive tables.';\n",
              "          element.innerHTML = '';\n",
              "          dataTable['output_type'] = 'display_data';\n",
              "          await google.colab.output.renderOutput(dataTable, element);\n",
              "          const docLink = document.createElement('div');\n",
              "          docLink.innerHTML = docLinkHtml;\n",
              "          element.appendChild(docLink);\n",
              "        }\n",
              "      </script>\n",
              "    </div>\n",
              "  </div>\n",
              "  "
            ],
            "text/plain": [
              "                                        comment_text  severe_toxicity  \\\n",
              "0  He got his money... now he lies in wait till a...         0.044776   \n",
              "1  Mad dog will surely put the liberals in mental...         0.013158   \n",
              "2  And Trump continues his lifelong cowardice by ...         0.015873   \n",
              "3  \"while arresting a man for resisting arrest\".\\...         0.065789   \n",
              "4     Tucker and Paul are both total bad ass mofo's.         0.037500   \n",
              "\n",
              "    obscene    threat  identity_attack    insult  sexual_explicit  funny  \\\n",
              "0  0.089552  0.014925         0.000000  0.343284         0.014925      0   \n",
              "1  0.065789  0.065789         0.092105  0.565789         0.013158      0   \n",
              "2  0.031746  0.000000         0.047619  0.666667         0.000000      1   \n",
              "3  0.552632  0.105263         0.000000  0.684211         0.592105      0   \n",
              "4  0.337500  0.000000         0.037500  0.487500         0.275000      0   \n",
              "\n",
              "   toxicity  \n",
              "0  0.373134  \n",
              "1  0.605263  \n",
              "2  0.666667  \n",
              "3  0.815789  \n",
              "4  0.550000  "
            ]
          },
          "execution_count": 9,
          "metadata": {},
          "output_type": "execute_result"
        }
      ],
      "source": [
        "df_new.head()"
      ]
    },
    {
      "cell_type": "code",
      "execution_count": null,
      "metadata": {
        "colab": {
          "base_uri": "https://localhost:8080/",
          "height": 296
        },
        "id": "j_KeCdLaVB93",
        "outputId": "6aac616c-d263-4a20-f6b3-bce6f8707fba"
      },
      "outputs": [
        {
          "output_type": "execute_result",
          "data": {
            "text/plain": [
              "<matplotlib.axes._subplots.AxesSubplot at 0x7f7a8f1f9c10>"
            ]
          },
          "metadata": {},
          "execution_count": 11
        },
        {
          "output_type": "display_data",
          "data": {
            "text/plain": [
              "<Figure size 432x288 with 1 Axes>"
            ],
            "image/png": "[encoded data removed]"
          },
          "metadata": {
            "needs_background": "light"
          }
        }
      ],
      "source": [
        "sns.distplot(df_new['toxicity'])"
      ]
    },
    {
      "cell_type": "code",
      "execution_count": null,
      "metadata": {
        "colab": {
          "base_uri": "https://localhost:8080/",
          "height": 296
        },
        "id": "W5JBpJmBVYEk",
        "outputId": "56ba89d1-1a6b-4924-abae-baf56df37405"
      },
      "outputs": [
        {
          "output_type": "execute_result",
          "data": {
            "text/plain": [
              "<matplotlib.axes._subplots.AxesSubplot at 0x7f7a7eb8add0>"
            ]
          },
          "metadata": {},
          "execution_count": 12
        },
        {
          "output_type": "display_data",
          "data": {
            "text/plain": [
              "<Figure size 432x288 with 1 Axes>"
            ],
            "image/png": "[encoded data removed]"
          },
          "metadata": {
            "needs_background": "light"
          }
        }
      ],
      "source": [
        "sns.distplot(df_new['obscene'])"
      ]
    },
    {
      "cell_type": "code",
      "execution_count": null,
      "metadata": {
        "colab": {
          "base_uri": "https://localhost:8080/",
          "height": 296
        },
        "id": "HD0161FfVZwr",
        "outputId": "f010874d-07e4-4c60-e729-25802c464881"
      },
      "outputs": [
        {
          "output_type": "execute_result",
          "data": {
            "text/plain": [
              "<matplotlib.axes._subplots.AxesSubplot at 0x7f7a81f196d0>"
            ]
          },
          "metadata": {},
          "execution_count": 13
        },
        {
          "output_type": "display_data",
          "data": {
            "text/plain": [
              "<Figure size 432x288 with 1 Axes>"
            ],
            "image/png": "[encoded data removed]"
          },
          "metadata": {
            "needs_background": "light"
          }
        }
      ],
      "source": [
        "sns.distplot(df_new['threat'])"
      ]
    },
    {
      "cell_type": "code",
      "execution_count": null,
      "metadata": {
        "colab": {
          "base_uri": "https://localhost:8080/",
          "height": 297
        },
        "id": "jLiwV45VVjvG",
        "outputId": "e3d05384-524a-4764-ecd6-c018756ee8ee"
      },
      "outputs": [
        {
          "output_type": "execute_result",
          "data": {
            "text/plain": [
              "<matplotlib.axes._subplots.AxesSubplot at 0x7f7a79b0b150>"
            ]
          },
          "metadata": {},
          "execution_count": 14
        },
        {
          "output_type": "display_data",
          "data": {
            "text/plain": [
              "<Figure size 432x288 with 1 Axes>"
            ],
            "image/png": "[encoded data removed]"
          },
          "metadata": {
            "needs_background": "light"
          }
        }
      ],
      "source": [
        "sns.distplot(df_new['identity_attack'])"
      ]
    },
    {
      "cell_type": "code",
      "execution_count": null,
      "metadata": {
        "colab": {
          "base_uri": "https://localhost:8080/",
          "height": 296
        },
        "id": "L9S1zu_DVnPR",
        "outputId": "06d1875a-b370-49b0-d95a-0bbf634f31b1"
      },
      "outputs": [
        {
          "output_type": "execute_result",
          "data": {
            "text/plain": [
              "<matplotlib.axes._subplots.AxesSubplot at 0x7f7a799c6d50>"
            ]
          },
          "metadata": {},
          "execution_count": 15
        },
        {
          "output_type": "display_data",
          "data": {
            "text/plain": [
              "<Figure size 432x288 with 1 Axes>"
            ],
            "image/png": "[encoded data removed]"
          },
          "metadata": {
            "needs_background": "light"
          }
        }
      ],
      "source": [
        "sns.distplot(df_new['insult'])"
      ]
    },
    {
      "cell_type": "code",
      "execution_count": null,
      "metadata": {
        "colab": {
          "base_uri": "https://localhost:8080/",
          "height": 297
        },
        "id": "G0633MuHVu8O",
        "outputId": "3486c71e-d17e-45db-d199-f0291f35db3a"
      },
      "outputs": [
        {
          "output_type": "execute_result",
          "data": {
            "text/plain": [
              "<matplotlib.axes._subplots.AxesSubplot at 0x7f7a79a41d50>"
            ]
          },
          "metadata": {},
          "execution_count": 16
        },
        {
          "output_type": "display_data",
          "data": {
            "text/plain": [
              "<Figure size 432x288 with 1 Axes>"
            ],
            "image/png": "[encoded data removed]"
          },
          "metadata": {
            "needs_background": "light"
          }
        }
      ],
      "source": [
        "sns.distplot(df_new['sexual_explicit'])"
      ]
    },
    {
      "cell_type": "code",
      "execution_count": null,
      "metadata": {
        "colab": {
          "base_uri": "https://localhost:8080/"
        },
        "id": "JDjwgSLoV1PO",
        "outputId": "55c14f24-0cc8-4786-b54e-28ac60db6bab"
      },
      "outputs": [
        {
          "output_type": "execute_result",
          "data": {
            "text/plain": [
              "array([  0,   1,   2,   3,   4,   5,   7,   8,   6,  12,  11,  20,  10,\n",
              "        23,  13,   9,  16,  17,  15,  18,  21,  36,  14,  24,  19,  22,\n",
              "        28,  33,  34,  30,  25,  32,  46,  26,  48,  37,  44,  31,  41,\n",
              "        38,  27,  40,  54,  58,  35,  29,  47,  51,  45,  39,  43, 102,\n",
              "        93,  50,  42,  49,  73,  94,  95,  52,  61,  56])"
            ]
          },
          "metadata": {},
          "execution_count": 17
        }
      ],
      "source": [
        "df_new['funny'].unique()"
      ]
    },
    {
      "cell_type": "code",
      "execution_count": null,
      "metadata": {
        "id": "gPTHX0_ESphA"
      },
      "outputs": [],
      "source": [
        "df_new['target_sexual_explicit'] = df_new['sexual_explicit'].apply(lambda x: 0 if x < 0.05 else 1)\n",
        "df_new['target_funny'] = df_new['funny'].apply(lambda x: 1 if x>0 else 0)\n",
        "df_new['target_obscene'] = df_new['obscene'].apply(lambda x: 0 if x < 0.05 else 1)\n",
        "df_new['target_threat'] = df_new['threat'].apply(lambda x: 0 if x < 0.05 else 1)\n",
        "df_new['target_identity_attack'] = df_new['identity_attack'].apply(lambda x: 0 if x < 0.05 else 1)\n",
        "df_new['target_insult'] = df_new['insult'].apply(lambda x: 0 if x < 0.05 else 1)\n",
        "df_new['target_toxicity'] = df_new['toxicity'].apply(lambda x: 0 if x < 0.2 else 1)"
      ]
    },
    {
      "cell_type": "code",
      "execution_count": null,
      "metadata": {
        "colab": {
          "base_uri": "https://localhost:8080/",
          "height": 565
        },
        "id": "VMLfRcieYBe_",
        "outputId": "5f1debe1-22f7-4a92-acec-a6e64b5af2c5"
      },
      "outputs": [
        {
          "data": {
            "text/html": [
              "\n",
              "  <div id=\"df-98cb0af0-b190-4a35-91f3-9ff45beafd6f\">\n",
              "    <div class=\"colab-df-container\">\n",
              "      <div>\n",
              "<style scoped>\n",
              "    .dataframe tbody tr th:only-of-type {\n",
              "        vertical-align: middle;\n",
              "    }\n",
              "\n",
              "    .dataframe tbody tr th {\n",
              "        vertical-align: top;\n",
              "    }\n",
              "\n",
              "    .dataframe thead th {\n",
              "        text-align: right;\n",
              "    }\n",
              "</style>\n",
              "<table border=\"1\" class=\"dataframe\">\n",
              "  <thead>\n",
              "    <tr style=\"text-align: right;\">\n",
              "      <th></th>\n",
              "      <th>comment_text</th>\n",
              "      <th>severe_toxicity</th>\n",
              "      <th>obscene</th>\n",
              "      <th>threat</th>\n",
              "      <th>identity_attack</th>\n",
              "      <th>insult</th>\n",
              "      <th>sexual_explicit</th>\n",
              "      <th>funny</th>\n",
              "      <th>toxicity</th>\n",
              "      <th>target_sexual_explicit</th>\n",
              "      <th>target_funny</th>\n",
              "      <th>target_obscene</th>\n",
              "      <th>target_threat</th>\n",
              "      <th>target_identity_attack</th>\n",
              "      <th>target_insult</th>\n",
              "      <th>target_toxicity</th>\n",
              "    </tr>\n",
              "  </thead>\n",
              "  <tbody>\n",
              "    <tr>\n",
              "      <th>0</th>\n",
              "      <td>He got his money... now he lies in wait till a...</td>\n",
              "      <td>0.044776</td>\n",
              "      <td>0.089552</td>\n",
              "      <td>0.014925</td>\n",
              "      <td>0.000000</td>\n",
              "      <td>0.343284</td>\n",
              "      <td>0.014925</td>\n",
              "      <td>0</td>\n",
              "      <td>0.373134</td>\n",
              "      <td>0</td>\n",
              "      <td>0</td>\n",
              "      <td>1</td>\n",
              "      <td>0</td>\n",
              "      <td>0</td>\n",
              "      <td>1</td>\n",
              "      <td>1</td>\n",
              "    </tr>\n",
              "    <tr>\n",
              "      <th>1</th>\n",
              "      <td>Mad dog will surely put the liberals in mental...</td>\n",
              "      <td>0.013158</td>\n",
              "      <td>0.065789</td>\n",
              "      <td>0.065789</td>\n",
              "      <td>0.092105</td>\n",
              "      <td>0.565789</td>\n",
              "      <td>0.013158</td>\n",
              "      <td>0</td>\n",
              "      <td>0.605263</td>\n",
              "      <td>0</td>\n",
              "      <td>0</td>\n",
              "      <td>1</td>\n",
              "      <td>1</td>\n",
              "      <td>1</td>\n",
              "      <td>1</td>\n",
              "      <td>1</td>\n",
              "    </tr>\n",
              "    <tr>\n",
              "      <th>2</th>\n",
              "      <td>And Trump continues his lifelong cowardice by ...</td>\n",
              "      <td>0.015873</td>\n",
              "      <td>0.031746</td>\n",
              "      <td>0.000000</td>\n",
              "      <td>0.047619</td>\n",
              "      <td>0.666667</td>\n",
              "      <td>0.000000</td>\n",
              "      <td>1</td>\n",
              "      <td>0.666667</td>\n",
              "      <td>0</td>\n",
              "      <td>1</td>\n",
              "      <td>0</td>\n",
              "      <td>0</td>\n",
              "      <td>0</td>\n",
              "      <td>1</td>\n",
              "      <td>1</td>\n",
              "    </tr>\n",
              "    <tr>\n",
              "      <th>3</th>\n",
              "      <td>\"while arresting a man for resisting arrest\".\\...</td>\n",
              "      <td>0.065789</td>\n",
              "      <td>0.552632</td>\n",
              "      <td>0.105263</td>\n",
              "      <td>0.000000</td>\n",
              "      <td>0.684211</td>\n",
              "      <td>0.592105</td>\n",
              "      <td>0</td>\n",
              "      <td>0.815789</td>\n",
              "      <td>1</td>\n",
              "      <td>0</td>\n",
              "      <td>1</td>\n",
              "      <td>1</td>\n",
              "      <td>0</td>\n",
              "      <td>1</td>\n",
              "      <td>1</td>\n",
              "    </tr>\n",
              "    <tr>\n",
              "      <th>4</th>\n",
              "      <td>Tucker and Paul are both total bad ass mofo's.</td>\n",
              "      <td>0.037500</td>\n",
              "      <td>0.337500</td>\n",
              "      <td>0.000000</td>\n",
              "      <td>0.037500</td>\n",
              "      <td>0.487500</td>\n",
              "      <td>0.275000</td>\n",
              "      <td>0</td>\n",
              "      <td>0.550000</td>\n",
              "      <td>1</td>\n",
              "      <td>0</td>\n",
              "      <td>1</td>\n",
              "      <td>0</td>\n",
              "      <td>0</td>\n",
              "      <td>1</td>\n",
              "      <td>1</td>\n",
              "    </tr>\n",
              "  </tbody>\n",
              "</table>\n",
              "</div>\n",
              "      <button class=\"colab-df-convert\" onclick=\"convertToInteractive('df-98cb0af0-b190-4a35-91f3-9ff45beafd6f')\"\n",
              "              title=\"Convert this dataframe to an interactive table.\"\n",
              "              style=\"display:none;\">\n",
              "        \n",
              "  <svg xmlns=\"http://www.w3.org/2000/svg\" height=\"24px\"viewBox=\"0 0 24 24\"\n",
              "       width=\"24px\">\n",
              "    <path d=\"M0 0h24v24H0V0z\" fill=\"none\"/>\n",
              "    <path d=\"M18.56 5.44l.94 2.06.94-2.06 2.06-.94-2.06-.94-.94-2.06-.94 2.06-2.06.94zm-11 1L8.5 8.5l.94-2.06 2.06-.94-2.06-.94L8.5 2.5l-.94 2.06-2.06.94zm10 10l.94 2.06.94-2.06 2.06-.94-2.06-.94-.94-2.06-.94 2.06-2.06.94z\"/><path d=\"M17.41 7.96l-1.37-1.37c-.4-.4-.92-.59-1.43-.59-.52 0-1.04.2-1.43.59L10.3 9.45l-7.72 7.72c-.78.78-.78 2.05 0 2.83L4 21.41c.39.39.9.59 1.41.59.51 0 1.02-.2 1.41-.59l7.78-7.78 2.81-2.81c.8-.78.8-2.07 0-2.86zM5.41 20L4 18.59l7.72-7.72 1.47 1.35L5.41 20z\"/>\n",
              "  </svg>\n",
              "      </button>\n",
              "      \n",
              "  <style>\n",
              "    .colab-df-container {\n",
              "      display:flex;\n",
              "      flex-wrap:wrap;\n",
              "      gap: 12px;\n",
              "    }\n",
              "\n",
              "    .colab-df-convert {\n",
              "      background-color: #E8F0FE;\n",
              "      border: none;\n",
              "      border-radius: 50%;\n",
              "      cursor: pointer;\n",
              "      display: none;\n",
              "      fill: #1967D2;\n",
              "      height: 32px;\n",
              "      padding: 0 0 0 0;\n",
              "      width: 32px;\n",
              "    }\n",
              "\n",
              "    .colab-df-convert:hover {\n",
              "      background-color: #E2EBFA;\n",
              "      box-shadow: 0px 1px 2px rgba(60, 64, 67, 0.3), 0px 1px 3px 1px rgba(60, 64, 67, 0.15);\n",
              "      fill: #174EA6;\n",
              "    }\n",
              "\n",
              "    [theme=dark] .colab-df-convert {\n",
              "      background-color: #3B4455;\n",
              "      fill: #D2E3FC;\n",
              "    }\n",
              "\n",
              "    [theme=dark] .colab-df-convert:hover {\n",
              "      background-color: #434B5C;\n",
              "      box-shadow: 0px 1px 3px 1px rgba(0, 0, 0, 0.15);\n",
              "      filter: drop-shadow(0px 1px 2px rgba(0, 0, 0, 0.3));\n",
              "      fill: #FFFFFF;\n",
              "    }\n",
              "  </style>\n",
              "\n",
              "      <script>\n",
              "        const buttonEl =\n",
              "          document.querySelector('#df-98cb0af0-b190-4a35-91f3-9ff45beafd6f button.colab-df-convert');\n",
              "        buttonEl.style.display =\n",
              "          google.colab.kernel.accessAllowed ? 'block' : 'none';\n",
              "\n",
              "        async function convertToInteractive(key) {\n",
              "          const element = document.querySelector('#df-98cb0af0-b190-4a35-91f3-9ff45beafd6f');\n",
              "          const dataTable =\n",
              "            await google.colab.kernel.invokeFunction('convertToInteractive',\n",
              "                                                     [key], {});\n",
              "          if (!dataTable) return;\n",
              "\n",
              "          const docLinkHtml = 'Like what you see? Visit the ' +\n",
              "            '<a target=\"_blank\" href=https://colab.research.google.com/notebooks/data_table.ipynb>data table notebook</a>'\n",
              "            + ' to learn more about interactive tables.';\n",
              "          element.innerHTML = '';\n",
              "          dataTable['output_type'] = 'display_data';\n",
              "          await google.colab.output.renderOutput(dataTable, element);\n",
              "          const docLink = document.createElement('div');\n",
              "          docLink.innerHTML = docLinkHtml;\n",
              "          element.appendChild(docLink);\n",
              "        }\n",
              "      </script>\n",
              "    </div>\n",
              "  </div>\n",
              "  "
            ],
            "text/plain": [
              "                                        comment_text  severe_toxicity  \\\n",
              "0  He got his money... now he lies in wait till a...         0.044776   \n",
              "1  Mad dog will surely put the liberals in mental...         0.013158   \n",
              "2  And Trump continues his lifelong cowardice by ...         0.015873   \n",
              "3  \"while arresting a man for resisting arrest\".\\...         0.065789   \n",
              "4     Tucker and Paul are both total bad ass mofo's.         0.037500   \n",
              "\n",
              "    obscene    threat  identity_attack    insult  sexual_explicit  funny  \\\n",
              "0  0.089552  0.014925         0.000000  0.343284         0.014925      0   \n",
              "1  0.065789  0.065789         0.092105  0.565789         0.013158      0   \n",
              "2  0.031746  0.000000         0.047619  0.666667         0.000000      1   \n",
              "3  0.552632  0.105263         0.000000  0.684211         0.592105      0   \n",
              "4  0.337500  0.000000         0.037500  0.487500         0.275000      0   \n",
              "\n",
              "   toxicity  target_sexual_explicit  target_funny  target_obscene  \\\n",
              "0  0.373134                       0             0               1   \n",
              "1  0.605263                       0             0               1   \n",
              "2  0.666667                       0             1               0   \n",
              "3  0.815789                       1             0               1   \n",
              "4  0.550000                       1             0               1   \n",
              "\n",
              "   target_threat  target_identity_attack  target_insult  target_toxicity  \n",
              "0              0                       0              1                1  \n",
              "1              1                       1              1                1  \n",
              "2              0                       0              1                1  \n",
              "3              1                       0              1                1  \n",
              "4              0                       0              1                1  "
            ]
          },
          "execution_count": 19,
          "metadata": {},
          "output_type": "execute_result"
        }
      ],
      "source": [
        "df_new.head()"
      ]
    },
    {
      "cell_type": "code",
      "execution_count": null,
      "metadata": {
        "id": "hf-Ehs8AwGMd"
      },
      "outputs": [],
      "source": [
        "def get_comment_nature(row):\n",
        "    row = [row['severe_toxicity'], row['obscene'], row['identity_attack'], row['insult'], row['threat'],row['sexual_explicit'],row['funny']]\n",
        "    \n",
        "    maxarg = np.argmax(np.array(row))\n",
        "    \n",
        "    if maxarg == 0: return 'severe_toxicity'\n",
        "    elif maxarg == 1: return 'obscene'\n",
        "    elif maxarg == 2: return 'identity_attack'\n",
        "    elif maxarg == 3: return 'insult'\n",
        "    elif maxarg == 5: return 'sexual_explicit'\n",
        "    elif maxarg == 6: return 'funny'\n",
        "    else: return 'threat'"
      ]
    },
    {
      "cell_type": "code",
      "execution_count": null,
      "metadata": {
        "colab": {
          "base_uri": "https://localhost:8080/",
          "height": 500
        },
        "id": "m2OwikgqwHID",
        "outputId": "283e1a7f-f246-4417-8a1f-e08024519ffd"
      },
      "outputs": [
        {
          "name": "stderr",
          "output_type": "stream",
          "text": [
            "/usr/local/lib/python3.7/dist-packages/seaborn/_decorators.py:43: FutureWarning: Pass the following variable as a keyword arg: x. From version 0.12, the only valid positional argument will be `data`, and passing other arguments without an explicit keyword will result in an error or misinterpretation.\n",
            "  FutureWarning\n"
          ]
        },
        {
          "data": {
            "image/png": "[encoded data removed]",
            "text/plain": [
              "<Figure size 1080x504 with 1 Axes>"
            ]
          },
          "metadata": {},
          "output_type": "display_data"
        }
      ],
      "source": [
        "temp = df[df['toxicity'] > 0.2]\n",
        "x = temp.apply(get_comment_nature, axis=1) \n",
        "fig, ax = plt.subplots(1,1,figsize=(15,7))\n",
        "total = float(len(x))\n",
        "\n",
        "cntplot = sns.countplot(x)\n",
        "cntplot.set_title('Percentage of toxicity nature in toxic comments data')\n",
        "\n",
        "for p in ax.patches:\n",
        "    height = p.get_height()\n",
        "    ax.text(p.get_x() + p.get_width()/2.0, height + 3, '{:1.2f}%'.format(100*height/total), ha='center')\n",
        "    \n",
        "plt.show()"
      ]
    },
    {
      "cell_type": "code",
      "execution_count": null,
      "metadata": {
        "colab": {
          "base_uri": "https://localhost:8080/",
          "height": 406
        },
        "id": "mUdQvR9VYEqr",
        "outputId": "92d32a79-45eb-47e7-db2d-97b1b8d46091"
      },
      "outputs": [
        {
          "name": "stderr",
          "output_type": "stream",
          "text": [
            "/usr/local/lib/python3.7/dist-packages/seaborn/_decorators.py:43: FutureWarning: Pass the following variable as a keyword arg: x. From version 0.12, the only valid positional argument will be `data`, and passing other arguments without an explicit keyword will result in an error or misinterpretation.\n",
            "  FutureWarning\n"
          ]
        },
        {
          "data": {
            "image/png": "[encoded data removed]",
            "text/plain": [
              "<Figure size 360x360 with 1 Axes>"
            ]
          },
          "metadata": {},
          "output_type": "display_data"
        }
      ],
      "source": [
        "fig, ax = plt.subplots(1,1,figsize=(5,5))\n",
        "total = float(len(df_new['target_toxicity']))\n",
        "\n",
        "cntplot = sns.countplot(df_new['target_toxicity'])\n",
        "cntplot.set_title('Percentage of non-toxic and toxic comments')\n",
        "\n",
        "for p in ax.patches:\n",
        "    # Get height.\n",
        "    height = p.get_height()\n",
        "    ax.text(p.get_x() + p.get_width()/2.0, height + 3, '{:1.2f}%'.format(100*height/total), ha='center')\n",
        "    \n",
        "plt.show()"
      ]
    },
    {
      "cell_type": "code",
      "execution_count": null,
      "metadata": {
        "colab": {
          "base_uri": "https://localhost:8080/",
          "height": 351
        },
        "id": "48-lSIRqaInv",
        "outputId": "b58d5e23-86ea-4c82-ea54-ebc74b815a24"
      },
      "outputs": [
        {
          "output_type": "display_data",
          "data": {
            "text/plain": [
              "<Figure size 360x360 with 1 Axes>"
            ],
            "image/png": "[encoded data removed]"
          },
          "metadata": {
            "needs_background": "light"
          }
        }
      ],
      "source": [
        "fig, ax = plt.subplots(1,1,figsize=(5,5))\n",
        "total = float(len(df_new['target_threat']))\n",
        "\n",
        "cntplot = sns.countplot(df_new['target_threat'])\n",
        "cntplot.set_title('Percentage of non-threat and threat comments')\n",
        "\n",
        "for p in ax.patches:\n",
        "    # Get height.\n",
        "    height = p.get_height()\n",
        "    ax.text(p.get_x() + p.get_width()/2.0, height + 3, '{:1.2f}%'.format(100*height/total), ha='center')\n",
        "    \n",
        "plt.show()"
      ]
    },
    {
      "cell_type": "code",
      "execution_count": null,
      "metadata": {
        "colab": {
          "base_uri": "https://localhost:8080/",
          "height": 351
        },
        "id": "w_wVgvw8aYbd",
        "outputId": "f57896dd-36ed-4e34-fc85-579e7ccfaeb1"
      },
      "outputs": [
        {
          "output_type": "display_data",
          "data": {
            "text/plain": [
              "<Figure size 360x360 with 1 Axes>"
            ],
            "image/png": "[encoded data removed]"
          },
          "metadata": {
            "needs_background": "light"
          }
        }
      ],
      "source": [
        "fig, ax = plt.subplots(1,1,figsize=(5,5))\n",
        "total = float(len(df_new['target_obscene']))\n",
        "\n",
        "cntplot = sns.countplot(df_new['target_obscene'])\n",
        "cntplot.set_title('Percentage of non-obscene and obscene comments')\n",
        "\n",
        "for p in ax.patches:\n",
        "    # Get height.\n",
        "    height = p.get_height()\n",
        "    ax.text(p.get_x() + p.get_width()/2.0, height + 3, '{:1.2f}%'.format(100*height/total), ha='center')\n",
        "    \n",
        "plt.show()"
      ]
    },
    {
      "cell_type": "code",
      "execution_count": null,
      "metadata": {
        "colab": {
          "base_uri": "https://localhost:8080/",
          "height": 351
        },
        "id": "stwTIptqagL8",
        "outputId": "e3090140-ad1f-425d-8d89-97ac55dfabd2"
      },
      "outputs": [
        {
          "output_type": "display_data",
          "data": {
            "text/plain": [
              "<Figure size 360x360 with 1 Axes>"
            ],
            "image/png": "[encoded data removed]"
          },
          "metadata": {
            "needs_background": "light"
          }
        }
      ],
      "source": [
        "fig, ax = plt.subplots(1,1,figsize=(5,5))\n",
        "total = float(len(df_new['target_sexual_explicit']))\n",
        "\n",
        "cntplot = sns.countplot(df_new['target_sexual_explicit'])\n",
        "cntplot.set_title('Percentage of non_sexual_explicit and sexual_explicit comments')\n",
        "\n",
        "for p in ax.patches:\n",
        "    # Get height.\n",
        "    height = p.get_height()\n",
        "    ax.text(p.get_x() + p.get_width()/2.0, height + 3, '{:1.2f}%'.format(100*height/total), ha='center')\n",
        "    \n",
        "plt.show()"
      ]
    },
    {
      "cell_type": "code",
      "execution_count": null,
      "metadata": {
        "colab": {
          "base_uri": "https://localhost:8080/",
          "height": 351
        },
        "id": "pdP0IqC8Y7z_",
        "outputId": "0ac4e0d3-3c11-4788-90a1-b9661c42f0fe"
      },
      "outputs": [
        {
          "output_type": "display_data",
          "data": {
            "text/plain": [
              "<Figure size 360x360 with 1 Axes>"
            ],
            "image/png": "[encoded data removed]"
          },
          "metadata": {
            "needs_background": "light"
          }
        }
      ],
      "source": [
        "fig, ax = plt.subplots(1,1,figsize=(5,5))\n",
        "total = float(len(df_new['target_identity_attack']))\n",
        "\n",
        "cntplot = sns.countplot(df_new['target_identity_attack'])\n",
        "cntplot.set_title('Percentage of non-identity_attack and identity_attack comments')\n",
        "\n",
        "for p in ax.patches:\n",
        "    # Get height.\n",
        "    height = p.get_height()\n",
        "    ax.text(p.get_x() + p.get_width()/2.0, height + 3, '{:1.2f}%'.format(100*height/total), ha='center')\n",
        "    \n",
        "plt.show()"
      ]
    },
    {
      "cell_type": "code",
      "execution_count": null,
      "metadata": {
        "colab": {
          "base_uri": "https://localhost:8080/",
          "height": 351
        },
        "id": "IRq7xh0rapAC",
        "outputId": "87b171ed-71a7-4822-83da-250e3ccfea0b"
      },
      "outputs": [
        {
          "output_type": "display_data",
          "data": {
            "text/plain": [
              "<Figure size 360x360 with 1 Axes>"
            ],
            "image/png": "[encoded data removed]"
          },
          "metadata": {
            "needs_background": "light"
          }
        }
      ],
      "source": [
        "fig, ax = plt.subplots(1,1,figsize=(5,5))\n",
        "total = float(len(df_new['target_funny']))\n",
        "\n",
        "cntplot = sns.countplot(df_new['target_funny'])\n",
        "cntplot.set_title('Percentage of non-funny and funny comments')\n",
        "\n",
        "for p in ax.patches:\n",
        "    # Get height.\n",
        "    height = p.get_height()\n",
        "    ax.text(p.get_x() + p.get_width()/2.0, height + 3, '{:1.2f}%'.format(100*height/total), ha='center')\n",
        "    \n",
        "plt.show()"
      ]
    },
    {
      "cell_type": "code",
      "execution_count": null,
      "metadata": {
        "id": "2XnuWmiza-UE"
      },
      "outputs": [],
      "source": [
        "cols_target = ['target_toxicity','target_funny','target_obscene','target_sexual_explicit','target_threat','target_insult', 'target_identity_attack']"
      ]
    },
    {
      "cell_type": "code",
      "execution_count": null,
      "metadata": {
        "id": "jA5OLgTvbkng"
      },
      "outputs": [],
      "source": [
        "data = df_new[cols_target]"
      ]
    },
    {
      "cell_type": "code",
      "execution_count": null,
      "metadata": {
        "colab": {
          "base_uri": "https://localhost:8080/",
          "height": 515
        },
        "id": "hUYffuP6o68B",
        "outputId": "2ed05a72-76d7-49eb-d715-6926a136a400"
      },
      "outputs": [
        {
          "data": {
            "text/plain": [
              "<matplotlib.axes._subplots.AxesSubplot at 0x7fee71a42250>"
            ]
          },
          "execution_count": 33,
          "metadata": {},
          "output_type": "execute_result"
        },
        {
          "data": {
            "image/png": "[encoded data removed]",
            "text/plain": [
              "<Figure size 504x504 with 2 Axes>"
            ]
          },
          "metadata": {},
          "output_type": "display_data"
        }
      ],
      "source": [
        "colormap = plt.cm.plasma\n",
        "plt.figure(figsize=(7,7))\n",
        "plt.title('Correlation of features & targets',y=1.05,size=14)\n",
        "sns.heatmap(data.astype(float).corr(),linewidths=0.1,vmax=1.0,square=True,cmap=colormap,\n",
        "           linecolor='white',annot=True)"
      ]
    },
    {
      "cell_type": "markdown",
      "metadata": {
        "id": "ffyY-HHxpLqp"
      },
      "source": [
        "We can see that there is high correlation between toxicity, insult and identity_attack."
      ]
    },
    {
      "cell_type": "markdown",
      "source": [
        "using Porter Stemmer for removing unwanted suffixes, and improve information retreival of our model."
      ],
      "metadata": {
        "id": "Z5DlXhPR5xx6"
      }
    },
    {
      "cell_type": "code",
      "execution_count": null,
      "metadata": {
        "id": "Am2yaWHNo9mz"
      },
      "outputs": [],
      "source": [
        "stemmer = PorterStemmer()\n",
        "stop_words = set(stopwords.words('english'))\n",
        "def preprocess(text_string):\n",
        "    text_string = \"\".join([c for c in text_string if c not in string.punctuation])\n",
        "    text_string = text_string.lower() # Convert everything to lower case.\n",
        "    text_string = re.sub('[^A-Za-z0-9]+', ' ', text_string) # Remove special characters and punctuations\n",
        "    \n",
        "    x = text_string.split()\n",
        "    new_text = []\n",
        "    \n",
        "    for word in x:\n",
        "        if word not in stop_words:\n",
        "            new_text.append(stemmer.stem(word))\n",
        "            \n",
        "    text_string = ' '.join(new_text)\n",
        "    return text_string"
      ]
    },
    {
      "cell_type": "code",
      "execution_count": null,
      "metadata": {
        "id": "ZUmvqWVKpdst"
      },
      "outputs": [],
      "source": [
        "df_new['preprocessed_text'] = df_new['comment_text'].apply(preprocess)"
      ]
    },
    {
      "cell_type": "code",
      "execution_count": null,
      "metadata": {
        "colab": {
          "base_uri": "https://localhost:8080/",
          "height": 565
        },
        "id": "70h4_qfbtBQH",
        "outputId": "eb9418bb-0c2f-4ebd-ee80-157f2e9b26ce"
      },
      "outputs": [
        {
          "output_type": "execute_result",
          "data": {
            "text/plain": [
              "                                        comment_text  severe_toxicity  \\\n",
              "0  He got his money... now he lies in wait till a...         0.044776   \n",
              "1  Mad dog will surely put the liberals in mental...         0.013158   \n",
              "2  And Trump continues his lifelong cowardice by ...         0.015873   \n",
              "3  \"while arresting a man for resisting arrest\".\\...         0.065789   \n",
              "4     Tucker and Paul are both total bad ass mofo's.         0.037500   \n",
              "\n",
              "    obscene    threat  identity_attack    insult  sexual_explicit  funny  \\\n",
              "0  0.089552  0.014925         0.000000  0.343284         0.014925      0   \n",
              "1  0.065789  0.065789         0.092105  0.565789         0.013158      0   \n",
              "2  0.031746  0.000000         0.047619  0.666667         0.000000      1   \n",
              "3  0.552632  0.105263         0.000000  0.684211         0.592105      0   \n",
              "4  0.337500  0.000000         0.037500  0.487500         0.275000      0   \n",
              "\n",
              "   toxicity  target_sexual_explicit  target_funny  target_obscene  \\\n",
              "0  0.373134                       0             0               1   \n",
              "1  0.605263                       0             0               1   \n",
              "2  0.666667                       0             1               0   \n",
              "3  0.815789                       1             0               1   \n",
              "4  0.550000                       1             0               1   \n",
              "\n",
              "   target_threat  target_identity_attack  target_insult  target_toxicity  \\\n",
              "0              0                       0              1                1   \n",
              "1              1                       1              1                1   \n",
              "2              0                       0              1                1   \n",
              "3              1                       0              1                1   \n",
              "4              0                       0              1                1   \n",
              "\n",
              "                                   preprocessed_text  \n",
              "0  got money lie wait till elect 2 yr dirti polit...  \n",
              "1        mad dog sure put liber mental hospit boorah  \n",
              "2  trump continu lifelong cowardic make announc a...  \n",
              "3  arrest man resist arrest copsuck cant see prob...  \n",
              "4                     tucker paul total bad ass mofo  "
            ],
            "text/html": [
              "\n",
              "  <div id=\"df-ddaac8a6-85bd-4a6c-85cd-7be033f7e65a\">\n",
              "    <div class=\"colab-df-container\">\n",
              "      <div>\n",
              "<style scoped>\n",
              "    .dataframe tbody tr th:only-of-type {\n",
              "        vertical-align: middle;\n",
              "    }\n",
              "\n",
              "    .dataframe tbody tr th {\n",
              "        vertical-align: top;\n",
              "    }\n",
              "\n",
              "    .dataframe thead th {\n",
              "        text-align: right;\n",
              "    }\n",
              "</style>\n",
              "<table border=\"1\" class=\"dataframe\">\n",
              "  <thead>\n",
              "    <tr style=\"text-align: right;\">\n",
              "      <th></th>\n",
              "      <th>comment_text</th>\n",
              "      <th>severe_toxicity</th>\n",
              "      <th>obscene</th>\n",
              "      <th>threat</th>\n",
              "      <th>identity_attack</th>\n",
              "      <th>insult</th>\n",
              "      <th>sexual_explicit</th>\n",
              "      <th>funny</th>\n",
              "      <th>toxicity</th>\n",
              "      <th>target_sexual_explicit</th>\n",
              "      <th>target_funny</th>\n",
              "      <th>target_obscene</th>\n",
              "      <th>target_threat</th>\n",
              "      <th>target_identity_attack</th>\n",
              "      <th>target_insult</th>\n",
              "      <th>target_toxicity</th>\n",
              "      <th>preprocessed_text</th>\n",
              "    </tr>\n",
              "  </thead>\n",
              "  <tbody>\n",
              "    <tr>\n",
              "      <th>0</th>\n",
              "      <td>He got his money... now he lies in wait till a...</td>\n",
              "      <td>0.044776</td>\n",
              "      <td>0.089552</td>\n",
              "      <td>0.014925</td>\n",
              "      <td>0.000000</td>\n",
              "      <td>0.343284</td>\n",
              "      <td>0.014925</td>\n",
              "      <td>0</td>\n",
              "      <td>0.373134</td>\n",
              "      <td>0</td>\n",
              "      <td>0</td>\n",
              "      <td>1</td>\n",
              "      <td>0</td>\n",
              "      <td>0</td>\n",
              "      <td>1</td>\n",
              "      <td>1</td>\n",
              "      <td>got money lie wait till elect 2 yr dirti polit...</td>\n",
              "    </tr>\n",
              "    <tr>\n",
              "      <th>1</th>\n",
              "      <td>Mad dog will surely put the liberals in mental...</td>\n",
              "      <td>0.013158</td>\n",
              "      <td>0.065789</td>\n",
              "      <td>0.065789</td>\n",
              "      <td>0.092105</td>\n",
              "      <td>0.565789</td>\n",
              "      <td>0.013158</td>\n",
              "      <td>0</td>\n",
              "      <td>0.605263</td>\n",
              "      <td>0</td>\n",
              "      <td>0</td>\n",
              "      <td>1</td>\n",
              "      <td>1</td>\n",
              "      <td>1</td>\n",
              "      <td>1</td>\n",
              "      <td>1</td>\n",
              "      <td>mad dog sure put liber mental hospit boorah</td>\n",
              "    </tr>\n",
              "    <tr>\n",
              "      <th>2</th>\n",
              "      <td>And Trump continues his lifelong cowardice by ...</td>\n",
              "      <td>0.015873</td>\n",
              "      <td>0.031746</td>\n",
              "      <td>0.000000</td>\n",
              "      <td>0.047619</td>\n",
              "      <td>0.666667</td>\n",
              "      <td>0.000000</td>\n",
              "      <td>1</td>\n",
              "      <td>0.666667</td>\n",
              "      <td>0</td>\n",
              "      <td>1</td>\n",
              "      <td>0</td>\n",
              "      <td>0</td>\n",
              "      <td>0</td>\n",
              "      <td>1</td>\n",
              "      <td>1</td>\n",
              "      <td>trump continu lifelong cowardic make announc a...</td>\n",
              "    </tr>\n",
              "    <tr>\n",
              "      <th>3</th>\n",
              "      <td>\"while arresting a man for resisting arrest\".\\...</td>\n",
              "      <td>0.065789</td>\n",
              "      <td>0.552632</td>\n",
              "      <td>0.105263</td>\n",
              "      <td>0.000000</td>\n",
              "      <td>0.684211</td>\n",
              "      <td>0.592105</td>\n",
              "      <td>0</td>\n",
              "      <td>0.815789</td>\n",
              "      <td>1</td>\n",
              "      <td>0</td>\n",
              "      <td>1</td>\n",
              "      <td>1</td>\n",
              "      <td>0</td>\n",
              "      <td>1</td>\n",
              "      <td>1</td>\n",
              "      <td>arrest man resist arrest copsuck cant see prob...</td>\n",
              "    </tr>\n",
              "    <tr>\n",
              "      <th>4</th>\n",
              "      <td>Tucker and Paul are both total bad ass mofo's.</td>\n",
              "      <td>0.037500</td>\n",
              "      <td>0.337500</td>\n",
              "      <td>0.000000</td>\n",
              "      <td>0.037500</td>\n",
              "      <td>0.487500</td>\n",
              "      <td>0.275000</td>\n",
              "      <td>0</td>\n",
              "      <td>0.550000</td>\n",
              "      <td>1</td>\n",
              "      <td>0</td>\n",
              "      <td>1</td>\n",
              "      <td>0</td>\n",
              "      <td>0</td>\n",
              "      <td>1</td>\n",
              "      <td>1</td>\n",
              "      <td>tucker paul total bad ass mofo</td>\n",
              "    </tr>\n",
              "  </tbody>\n",
              "</table>\n",
              "</div>\n",
              "      <button class=\"colab-df-convert\" onclick=\"convertToInteractive('df-ddaac8a6-85bd-4a6c-85cd-7be033f7e65a')\"\n",
              "              title=\"Convert this dataframe to an interactive table.\"\n",
              "              style=\"display:none;\">\n",
              "        \n",
              "  <svg xmlns=\"http://www.w3.org/2000/svg\" height=\"24px\"viewBox=\"0 0 24 24\"\n",
              "       width=\"24px\">\n",
              "    <path d=\"M0 0h24v24H0V0z\" fill=\"none\"/>\n",
              "    <path d=\"M18.56 5.44l.94 2.06.94-2.06 2.06-.94-2.06-.94-.94-2.06-.94 2.06-2.06.94zm-11 1L8.5 8.5l.94-2.06 2.06-.94-2.06-.94L8.5 2.5l-.94 2.06-2.06.94zm10 10l.94 2.06.94-2.06 2.06-.94-2.06-.94-.94-2.06-.94 2.06-2.06.94z\"/><path d=\"M17.41 7.96l-1.37-1.37c-.4-.4-.92-.59-1.43-.59-.52 0-1.04.2-1.43.59L10.3 9.45l-7.72 7.72c-.78.78-.78 2.05 0 2.83L4 21.41c.39.39.9.59 1.41.59.51 0 1.02-.2 1.41-.59l7.78-7.78 2.81-2.81c.8-.78.8-2.07 0-2.86zM5.41 20L4 18.59l7.72-7.72 1.47 1.35L5.41 20z\"/>\n",
              "  </svg>\n",
              "      </button>\n",
              "      \n",
              "  <style>\n",
              "    .colab-df-container {\n",
              "      display:flex;\n",
              "      flex-wrap:wrap;\n",
              "      gap: 12px;\n",
              "    }\n",
              "\n",
              "    .colab-df-convert {\n",
              "      background-color: #E8F0FE;\n",
              "      border: none;\n",
              "      border-radius: 50%;\n",
              "      cursor: pointer;\n",
              "      display: none;\n",
              "      fill: #1967D2;\n",
              "      height: 32px;\n",
              "      padding: 0 0 0 0;\n",
              "      width: 32px;\n",
              "    }\n",
              "\n",
              "    .colab-df-convert:hover {\n",
              "      background-color: #E2EBFA;\n",
              "      box-shadow: 0px 1px 2px rgba(60, 64, 67, 0.3), 0px 1px 3px 1px rgba(60, 64, 67, 0.15);\n",
              "      fill: #174EA6;\n",
              "    }\n",
              "\n",
              "    [theme=dark] .colab-df-convert {\n",
              "      background-color: #3B4455;\n",
              "      fill: #D2E3FC;\n",
              "    }\n",
              "\n",
              "    [theme=dark] .colab-df-convert:hover {\n",
              "      background-color: #434B5C;\n",
              "      box-shadow: 0px 1px 3px 1px rgba(0, 0, 0, 0.15);\n",
              "      filter: drop-shadow(0px 1px 2px rgba(0, 0, 0, 0.3));\n",
              "      fill: #FFFFFF;\n",
              "    }\n",
              "  </style>\n",
              "\n",
              "      <script>\n",
              "        const buttonEl =\n",
              "          document.querySelector('#df-ddaac8a6-85bd-4a6c-85cd-7be033f7e65a button.colab-df-convert');\n",
              "        buttonEl.style.display =\n",
              "          google.colab.kernel.accessAllowed ? 'block' : 'none';\n",
              "\n",
              "        async function convertToInteractive(key) {\n",
              "          const element = document.querySelector('#df-ddaac8a6-85bd-4a6c-85cd-7be033f7e65a');\n",
              "          const dataTable =\n",
              "            await google.colab.kernel.invokeFunction('convertToInteractive',\n",
              "                                                     [key], {});\n",
              "          if (!dataTable) return;\n",
              "\n",
              "          const docLinkHtml = 'Like what you see? Visit the ' +\n",
              "            '<a target=\"_blank\" href=https://colab.research.google.com/notebooks/data_table.ipynb>data table notebook</a>'\n",
              "            + ' to learn more about interactive tables.';\n",
              "          element.innerHTML = '';\n",
              "          dataTable['output_type'] = 'display_data';\n",
              "          await google.colab.output.renderOutput(dataTable, element);\n",
              "          const docLink = document.createElement('div');\n",
              "          docLink.innerHTML = docLinkHtml;\n",
              "          element.appendChild(docLink);\n",
              "        }\n",
              "      </script>\n",
              "    </div>\n",
              "  </div>\n",
              "  "
            ]
          },
          "metadata": {},
          "execution_count": 23
        }
      ],
      "source": [
        "df_new.head()"
      ]
    },
    {
      "cell_type": "code",
      "execution_count": null,
      "metadata": {
        "id": "kjvg921gqPXn"
      },
      "outputs": [],
      "source": [
        "vectorizer = TfidfVectorizer(analyzer = 'word',stop_words='english', max_features=10000)"
      ]
    },
    {
      "cell_type": "code",
      "execution_count": null,
      "metadata": {
        "id": "jLvHRWvgvbEs"
      },
      "outputs": [],
      "source": [
        "X = df_new['preprocessed_text'].copy(deep=True)"
      ]
    },
    {
      "cell_type": "code",
      "execution_count": null,
      "metadata": {
        "id": "E-hk0tqE0gtM"
      },
      "outputs": [],
      "source": [
        "##Vectorizing text and saving the models"
      ]
    },
    {
      "cell_type": "code",
      "execution_count": null,
      "metadata": {
        "id": "xMopVKw2vNse"
      },
      "outputs": [],
      "source": [
        "X_final = vectorizer.fit_transform(df_new['preprocessed_text'])"
      ]
    },
    {
      "cell_type": "code",
      "execution_count": null,
      "metadata": {
        "id": "mSdlKwwmxHgQ"
      },
      "outputs": [],
      "source": [
        "scipy.sparse.save_npz('/content/drive/MyDrive/PRML_CourseProject_ToxicComment/X_vectorized_new.npz', X_final)\n",
        "#X_final.tofile('/content/drive/MyDrive/PRML_CourseProject_ToxicComment/X_vectorized.csv', sep = ',')\n",
        "\n",
        "# Code to load it\n",
        "# sparse_matrix = scipy.sparse.load_npz('/tmp/sparse_matrix.npz')"
      ]
    },
    {
      "cell_type": "code",
      "execution_count": null,
      "metadata": {
        "id": "QP_uvNzFxYhg"
      },
      "outputs": [],
      "source": [
        "df_new.to_csv('/content/drive/MyDrive/PRML_CourseProject_ToxicComment/df_target_variables_new.csv')"
      ]
    },
    {
      "cell_type": "code",
      "execution_count": null,
      "metadata": {
        "id": "ednUhgswzoG8"
      },
      "outputs": [],
      "source": [
        "pickle.dump(vectorizer.vocabulary_,open(\"/content/drive/MyDrive/PRML_CourseProject_ToxicComment/feature_new.pkl\",\"wb\"))\n",
        "\n",
        "# Code to load it\n",
        "# transformer = TfidfTransformer()\n",
        "# loaded_vec = CountVectorizer(decode_error=\"replace\",vocabulary=pickle.load(open(\"feature.pkl\", \"rb\")))\n",
        "# tfidf = transformer.fit_transform(loaded_vec.fit_transform(np.array([\"aaa ccc eee\"])))"
      ]
    },
    {
      "cell_type": "markdown",
      "metadata": {
        "id": "Eb4f7Kdg9p4z"
      },
      "source": [
        "##Loading Data"
      ]
    },
    {
      "cell_type": "code",
      "execution_count": null,
      "metadata": {
        "id": "Ukm7XvxI9r4K"
      },
      "outputs": [],
      "source": [
        "X_final = scipy.sparse.load_npz('/content/drive/MyDrive/PRML_CourseProject_ToxicComment/X_vectorized.npz')"
      ]
    },
    {
      "cell_type": "code",
      "execution_count": null,
      "metadata": {
        "id": "w2DTqdql-Btb"
      },
      "outputs": [],
      "source": [
        "df_new = pd.read_csv('/content/drive/MyDrive/PRML_CourseProject_ToxicComment/df_target_variables.csv')"
      ]
    },
    {
      "cell_type": "code",
      "execution_count": null,
      "metadata": {
        "colab": {
          "base_uri": "https://localhost:8080/",
          "height": 582
        },
        "id": "ACNMB7AS-MGV",
        "outputId": "94e195c0-0af1-4e54-87a9-54dff0f65395"
      },
      "outputs": [
        {
          "output_type": "execute_result",
          "data": {
            "text/plain": [
              "   Unnamed: 0                                       comment_text  \\\n",
              "0           0  He got his money... now he lies in wait till a...   \n",
              "1           1  Mad dog will surely put the liberals in mental...   \n",
              "2           2  And Trump continues his lifelong cowardice by ...   \n",
              "3           3  \"while arresting a man for resisting arrest\".\\...   \n",
              "4           4     Tucker and Paul are both total bad ass mofo's.   \n",
              "\n",
              "   severe_toxicity   obscene    threat  identity_attack    insult  \\\n",
              "0         0.044776  0.089552  0.014925         0.000000  0.343284   \n",
              "1         0.013158  0.065789  0.065789         0.092105  0.565789   \n",
              "2         0.015873  0.031746  0.000000         0.047619  0.666667   \n",
              "3         0.065789  0.552632  0.105263         0.000000  0.684211   \n",
              "4         0.037500  0.337500  0.000000         0.037500  0.487500   \n",
              "\n",
              "   sexual_explicit  funny  toxicity  target_sexual_explicit  target_funny  \\\n",
              "0         0.014925      0  0.373134                       0             0   \n",
              "1         0.013158      0  0.605263                       0             0   \n",
              "2         0.000000      1  0.666667                       0             1   \n",
              "3         0.592105      0  0.815789                       1             0   \n",
              "4         0.275000      0  0.550000                       1             0   \n",
              "\n",
              "   target_obscene  target_threat  target_identity_attack  target_insult  \\\n",
              "0               1              0                       0              1   \n",
              "1               1              1                       1              1   \n",
              "2               0              0                       0              1   \n",
              "3               1              1                       0              1   \n",
              "4               1              0                       0              1   \n",
              "\n",
              "   target_toxicity                                  preprocessed_text  \n",
              "0                1  got money lie wait till elect 2 yrs dirti poli...  \n",
              "1                1        mad dog sure put liber mental hospit boorah  \n",
              "2                1  trump continu lifelong cowardic make announc a...  \n",
              "3                1  arrest man resist arrest cop sucker see proble...  \n",
              "4                1                     tucker paul total bad ass mofo  "
            ],
            "text/html": [
              "\n",
              "  <div id=\"df-c79695fc-dc1e-4e62-a651-100c300f7fa3\">\n",
              "    <div class=\"colab-df-container\">\n",
              "      <div>\n",
              "<style scoped>\n",
              "    .dataframe tbody tr th:only-of-type {\n",
              "        vertical-align: middle;\n",
              "    }\n",
              "\n",
              "    .dataframe tbody tr th {\n",
              "        vertical-align: top;\n",
              "    }\n",
              "\n",
              "    .dataframe thead th {\n",
              "        text-align: right;\n",
              "    }\n",
              "</style>\n",
              "<table border=\"1\" class=\"dataframe\">\n",
              "  <thead>\n",
              "    <tr style=\"text-align: right;\">\n",
              "      <th></th>\n",
              "      <th>Unnamed: 0</th>\n",
              "      <th>comment_text</th>\n",
              "      <th>severe_toxicity</th>\n",
              "      <th>obscene</th>\n",
              "      <th>threat</th>\n",
              "      <th>identity_attack</th>\n",
              "      <th>insult</th>\n",
              "      <th>sexual_explicit</th>\n",
              "      <th>funny</th>\n",
              "      <th>toxicity</th>\n",
              "      <th>target_sexual_explicit</th>\n",
              "      <th>target_funny</th>\n",
              "      <th>target_obscene</th>\n",
              "      <th>target_threat</th>\n",
              "      <th>target_identity_attack</th>\n",
              "      <th>target_insult</th>\n",
              "      <th>target_toxicity</th>\n",
              "      <th>preprocessed_text</th>\n",
              "    </tr>\n",
              "  </thead>\n",
              "  <tbody>\n",
              "    <tr>\n",
              "      <th>0</th>\n",
              "      <td>0</td>\n",
              "      <td>He got his money... now he lies in wait till a...</td>\n",
              "      <td>0.044776</td>\n",
              "      <td>0.089552</td>\n",
              "      <td>0.014925</td>\n",
              "      <td>0.000000</td>\n",
              "      <td>0.343284</td>\n",
              "      <td>0.014925</td>\n",
              "      <td>0</td>\n",
              "      <td>0.373134</td>\n",
              "      <td>0</td>\n",
              "      <td>0</td>\n",
              "      <td>1</td>\n",
              "      <td>0</td>\n",
              "      <td>0</td>\n",
              "      <td>1</td>\n",
              "      <td>1</td>\n",
              "      <td>got money lie wait till elect 2 yrs dirti poli...</td>\n",
              "    </tr>\n",
              "    <tr>\n",
              "      <th>1</th>\n",
              "      <td>1</td>\n",
              "      <td>Mad dog will surely put the liberals in mental...</td>\n",
              "      <td>0.013158</td>\n",
              "      <td>0.065789</td>\n",
              "      <td>0.065789</td>\n",
              "      <td>0.092105</td>\n",
              "      <td>0.565789</td>\n",
              "      <td>0.013158</td>\n",
              "      <td>0</td>\n",
              "      <td>0.605263</td>\n",
              "      <td>0</td>\n",
              "      <td>0</td>\n",
              "      <td>1</td>\n",
              "      <td>1</td>\n",
              "      <td>1</td>\n",
              "      <td>1</td>\n",
              "      <td>1</td>\n",
              "      <td>mad dog sure put liber mental hospit boorah</td>\n",
              "    </tr>\n",
              "    <tr>\n",
              "      <th>2</th>\n",
              "      <td>2</td>\n",
              "      <td>And Trump continues his lifelong cowardice by ...</td>\n",
              "      <td>0.015873</td>\n",
              "      <td>0.031746</td>\n",
              "      <td>0.000000</td>\n",
              "      <td>0.047619</td>\n",
              "      <td>0.666667</td>\n",
              "      <td>0.000000</td>\n",
              "      <td>1</td>\n",
              "      <td>0.666667</td>\n",
              "      <td>0</td>\n",
              "      <td>1</td>\n",
              "      <td>0</td>\n",
              "      <td>0</td>\n",
              "      <td>0</td>\n",
              "      <td>1</td>\n",
              "      <td>1</td>\n",
              "      <td>trump continu lifelong cowardic make announc a...</td>\n",
              "    </tr>\n",
              "    <tr>\n",
              "      <th>3</th>\n",
              "      <td>3</td>\n",
              "      <td>\"while arresting a man for resisting arrest\".\\...</td>\n",
              "      <td>0.065789</td>\n",
              "      <td>0.552632</td>\n",
              "      <td>0.105263</td>\n",
              "      <td>0.000000</td>\n",
              "      <td>0.684211</td>\n",
              "      <td>0.592105</td>\n",
              "      <td>0</td>\n",
              "      <td>0.815789</td>\n",
              "      <td>1</td>\n",
              "      <td>0</td>\n",
              "      <td>1</td>\n",
              "      <td>1</td>\n",
              "      <td>0</td>\n",
              "      <td>1</td>\n",
              "      <td>1</td>\n",
              "      <td>arrest man resist arrest cop sucker see proble...</td>\n",
              "    </tr>\n",
              "    <tr>\n",
              "      <th>4</th>\n",
              "      <td>4</td>\n",
              "      <td>Tucker and Paul are both total bad ass mofo's.</td>\n",
              "      <td>0.037500</td>\n",
              "      <td>0.337500</td>\n",
              "      <td>0.000000</td>\n",
              "      <td>0.037500</td>\n",
              "      <td>0.487500</td>\n",
              "      <td>0.275000</td>\n",
              "      <td>0</td>\n",
              "      <td>0.550000</td>\n",
              "      <td>1</td>\n",
              "      <td>0</td>\n",
              "      <td>1</td>\n",
              "      <td>0</td>\n",
              "      <td>0</td>\n",
              "      <td>1</td>\n",
              "      <td>1</td>\n",
              "      <td>tucker paul total bad ass mofo</td>\n",
              "    </tr>\n",
              "  </tbody>\n",
              "</table>\n",
              "</div>\n",
              "      <button class=\"colab-df-convert\" onclick=\"convertToInteractive('df-c79695fc-dc1e-4e62-a651-100c300f7fa3')\"\n",
              "              title=\"Convert this dataframe to an interactive table.\"\n",
              "              style=\"display:none;\">\n",
              "        \n",
              "  <svg xmlns=\"http://www.w3.org/2000/svg\" height=\"24px\"viewBox=\"0 0 24 24\"\n",
              "       width=\"24px\">\n",
              "    <path d=\"M0 0h24v24H0V0z\" fill=\"none\"/>\n",
              "    <path d=\"M18.56 5.44l.94 2.06.94-2.06 2.06-.94-2.06-.94-.94-2.06-.94 2.06-2.06.94zm-11 1L8.5 8.5l.94-2.06 2.06-.94-2.06-.94L8.5 2.5l-.94 2.06-2.06.94zm10 10l.94 2.06.94-2.06 2.06-.94-2.06-.94-.94-2.06-.94 2.06-2.06.94z\"/><path d=\"M17.41 7.96l-1.37-1.37c-.4-.4-.92-.59-1.43-.59-.52 0-1.04.2-1.43.59L10.3 9.45l-7.72 7.72c-.78.78-.78 2.05 0 2.83L4 21.41c.39.39.9.59 1.41.59.51 0 1.02-.2 1.41-.59l7.78-7.78 2.81-2.81c.8-.78.8-2.07 0-2.86zM5.41 20L4 18.59l7.72-7.72 1.47 1.35L5.41 20z\"/>\n",
              "  </svg>\n",
              "      </button>\n",
              "      \n",
              "  <style>\n",
              "    .colab-df-container {\n",
              "      display:flex;\n",
              "      flex-wrap:wrap;\n",
              "      gap: 12px;\n",
              "    }\n",
              "\n",
              "    .colab-df-convert {\n",
              "      background-color: #E8F0FE;\n",
              "      border: none;\n",
              "      border-radius: 50%;\n",
              "      cursor: pointer;\n",
              "      display: none;\n",
              "      fill: #1967D2;\n",
              "      height: 32px;\n",
              "      padding: 0 0 0 0;\n",
              "      width: 32px;\n",
              "    }\n",
              "\n",
              "    .colab-df-convert:hover {\n",
              "      background-color: #E2EBFA;\n",
              "      box-shadow: 0px 1px 2px rgba(60, 64, 67, 0.3), 0px 1px 3px 1px rgba(60, 64, 67, 0.15);\n",
              "      fill: #174EA6;\n",
              "    }\n",
              "\n",
              "    [theme=dark] .colab-df-convert {\n",
              "      background-color: #3B4455;\n",
              "      fill: #D2E3FC;\n",
              "    }\n",
              "\n",
              "    [theme=dark] .colab-df-convert:hover {\n",
              "      background-color: #434B5C;\n",
              "      box-shadow: 0px 1px 3px 1px rgba(0, 0, 0, 0.15);\n",
              "      filter: drop-shadow(0px 1px 2px rgba(0, 0, 0, 0.3));\n",
              "      fill: #FFFFFF;\n",
              "    }\n",
              "  </style>\n",
              "\n",
              "      <script>\n",
              "        const buttonEl =\n",
              "          document.querySelector('#df-c79695fc-dc1e-4e62-a651-100c300f7fa3 button.colab-df-convert');\n",
              "        buttonEl.style.display =\n",
              "          google.colab.kernel.accessAllowed ? 'block' : 'none';\n",
              "\n",
              "        async function convertToInteractive(key) {\n",
              "          const element = document.querySelector('#df-c79695fc-dc1e-4e62-a651-100c300f7fa3');\n",
              "          const dataTable =\n",
              "            await google.colab.kernel.invokeFunction('convertToInteractive',\n",
              "                                                     [key], {});\n",
              "          if (!dataTable) return;\n",
              "\n",
              "          const docLinkHtml = 'Like what you see? Visit the ' +\n",
              "            '<a target=\"_blank\" href=https://colab.research.google.com/notebooks/data_table.ipynb>data table notebook</a>'\n",
              "            + ' to learn more about interactive tables.';\n",
              "          element.innerHTML = '';\n",
              "          dataTable['output_type'] = 'display_data';\n",
              "          await google.colab.output.renderOutput(dataTable, element);\n",
              "          const docLink = document.createElement('div');\n",
              "          docLink.innerHTML = docLinkHtml;\n",
              "          element.appendChild(docLink);\n",
              "        }\n",
              "      </script>\n",
              "    </div>\n",
              "  </div>\n",
              "  "
            ]
          },
          "metadata": {},
          "execution_count": 16
        }
      ],
      "source": [
        "df_new.head()"
      ]
    },
    {
      "cell_type": "code",
      "execution_count": null,
      "metadata": {
        "id": "2oUJZ-EC-hht"
      },
      "outputs": [],
      "source": [
        "cols_target = ['target_toxicity','target_funny','target_obscene','target_sexual_explicit','target_threat','target_insult', 'target_identity_attack']"
      ]
    },
    {
      "cell_type": "markdown",
      "source": [
        "##Looking at some comments from each class"
      ],
      "metadata": {
        "id": "Zamsa3HoROPl"
      }
    },
    {
      "cell_type": "markdown",
      "source": [
        "Toxic comments"
      ],
      "metadata": {
        "id": "n_L-CeU2VmWj"
      }
    },
    {
      "cell_type": "code",
      "source": [
        "rslt_df = df_new[df_new['target_toxicity'] == 1].copy()\n",
        "print('\\nResult dataframe :\\n', rslt_df['comment_text'])"
      ],
      "metadata": {
        "colab": {
          "base_uri": "https://localhost:8080/"
        },
        "id": "gKkn2KfORRZA",
        "outputId": "38b09d7f-0cd8-4f8b-b79f-a67ad0c5860b"
      },
      "execution_count": null,
      "outputs": [
        {
          "output_type": "stream",
          "name": "stdout",
          "text": [
            "\n",
            "Result dataframe :\n",
            " 0          He got his money... now he lies in wait till a...\n",
            "1          Mad dog will surely put the liberals in mental...\n",
            "2          And Trump continues his lifelong cowardice by ...\n",
            "3          \"while arresting a man for resisting arrest\".\\...\n",
            "4             Tucker and Paul are both total bad ass mofo's.\n",
            "                                 ...                        \n",
            "1999510    Another man shamming article. If white men did...\n",
            "1999511    \"no matter what is put in front of you regardi...\n",
            "1999512    The Democrat party aided and abetted by it's M...\n",
            "1999513    I just don't find her a very good representati...\n",
            "1999514    You know the Trump fanatics are trolling the G...\n",
            "Name: comment_text, Length: 417905, dtype: object\n"
          ]
        }
      ]
    },
    {
      "cell_type": "code",
      "source": [
        "print(rslt_df['comment_text'].iloc[0])"
      ],
      "metadata": {
        "colab": {
          "base_uri": "https://localhost:8080/"
        },
        "id": "GE071g9XU6Lv",
        "outputId": "d51078d6-5cc6-43cd-ea8e-957282372fd4"
      },
      "execution_count": null,
      "outputs": [
        {
          "output_type": "stream",
          "name": "stdout",
          "text": [
            "He got his money... now he lies in wait till after the election in 2 yrs.... dirty politicians need to be afraid of Tar and feathers again... but they aren't and so the people get screwed.\n"
          ]
        }
      ]
    },
    {
      "cell_type": "markdown",
      "source": [
        "Funny Comments"
      ],
      "metadata": {
        "id": "avCvXuA0Vohz"
      }
    },
    {
      "cell_type": "code",
      "source": [
        "rslt_df = df_new[df_new['target_funny'] == 1].copy()\n",
        "print('\\nResult dataframe :\\n', rslt_df['comment_text'])"
      ],
      "metadata": {
        "colab": {
          "base_uri": "https://localhost:8080/"
        },
        "id": "tNqi15ygRtcf",
        "outputId": "b7bd05c6-4ca9-4881-c7d6-b3bbcffa7af1"
      },
      "execution_count": null,
      "outputs": [
        {
          "output_type": "stream",
          "name": "stdout",
          "text": [
            "\n",
            "Result dataframe :\n",
            " 2          And Trump continues his lifelong cowardice by ...\n",
            "9          Only a fool would believe that the MSM is not ...\n",
            "10         NO !  There are no alternative facts. Go check...\n",
            "12         Wow, some mental gymnastics there Mr Gupta Tro...\n",
            "30         Stupid is what stupid thinks (and says).\\n\\nCh...\n",
            "                                 ...                        \n",
            "1999454    In a speech about this attack, Theresa May add...\n",
            "1999457    Straw man. That is not at issue in this case. ...\n",
            "1999489    As a 74 year old woman who has little if any i...\n",
            "1999513    I just don't find her a very good representati...\n",
            "1999514    You know the Trump fanatics are trolling the G...\n",
            "Name: comment_text, Length: 282001, dtype: object\n"
          ]
        }
      ]
    },
    {
      "cell_type": "code",
      "source": [
        "print(rslt_df['comment_text'].iloc[30])"
      ],
      "metadata": {
        "colab": {
          "base_uri": "https://localhost:8080/"
        },
        "id": "xF6E8rxuVatv",
        "outputId": "6519d7eb-6758-45c6-9440-ba896b31398b"
      },
      "execution_count": null,
      "outputs": [
        {
          "output_type": "stream",
          "name": "stdout",
          "text": [
            "Donald Trump’s re-election campaign started asking for money on inauguration day, and just as he’s kept holding campaign rallies, the cheesy fundraising emails filled with lies apparently have not stopped.\n",
            "\n",
            "Who is idiotic enough to give Trump money?\n",
            "\n",
            "Whoever they are, however mindless and unthinking they are, ...they aren't bots.\n",
            "\n",
            "Well, …they sort of are.\n"
          ]
        }
      ]
    },
    {
      "cell_type": "code",
      "source": [
        "rslt_df = df_new[df_new['target_obscene'] == 1].copy()\n",
        "print('\\nResult dataframe :\\n', rslt_df['comment_text'])"
      ],
      "metadata": {
        "colab": {
          "base_uri": "https://localhost:8080/"
        },
        "id": "qH7SzpbKRw48",
        "outputId": "df7c2c5c-e1e7-4ea5-bd96-c468116aa5cc"
      },
      "execution_count": null,
      "outputs": [
        {
          "output_type": "stream",
          "name": "stdout",
          "text": [
            "\n",
            "Result dataframe :\n",
            " 0          He got his money... now he lies in wait till a...\n",
            "1          Mad dog will surely put the liberals in mental...\n",
            "3          \"while arresting a man for resisting arrest\".\\...\n",
            "4             Tucker and Paul are both total bad ass mofo's.\n",
            "5          Cry me a river, why don't you.\\nDrinking, drug...\n",
            "                                 ...                        \n",
            "1999494    Homosexuals are NOT pedophiles. The pedophiles...\n",
            "1999501    When you say speaking in code, you are adding ...\n",
            "1999504    At least twice trained law enforcement officer...\n",
            "1999505    What about the Mormons and the \"Polynesian Cul...\n",
            "1999512    The Democrat party aided and abetted by it's M...\n",
            "Name: comment_text, Length: 139500, dtype: object\n"
          ]
        }
      ]
    },
    {
      "cell_type": "code",
      "source": [
        "print(rslt_df['comment_text'].iloc[3])"
      ],
      "metadata": {
        "colab": {
          "base_uri": "https://localhost:8080/"
        },
        "id": "SoSO0_yTV0Lp",
        "outputId": "df29a301-c7b9-4835-f6f0-15d1edf0b221"
      },
      "execution_count": null,
      "outputs": [
        {
          "output_type": "stream",
          "name": "stdout",
          "text": [
            "Tucker and Paul are both total bad ass mofo's.\n"
          ]
        }
      ]
    },
    {
      "cell_type": "markdown",
      "source": [
        "Sexual Explicit Comments"
      ],
      "metadata": {
        "id": "-4lmgX6AV2zb"
      }
    },
    {
      "cell_type": "code",
      "source": [
        "rslt_df = df_new[df_new['target_sexual_explicit'] == 1].copy()\n",
        "print('\\nResult dataframe :\\n', rslt_df['comment_text'])"
      ],
      "metadata": {
        "colab": {
          "base_uri": "https://localhost:8080/"
        },
        "id": "4I3_Lb1wRynZ",
        "outputId": "95f4af76-1af2-4eda-846f-68171cd6b253"
      },
      "execution_count": null,
      "outputs": [
        {
          "output_type": "stream",
          "name": "stdout",
          "text": [
            "\n",
            "Result dataframe :\n",
            " 3          \"while arresting a man for resisting arrest\".\\...\n",
            "4             Tucker and Paul are both total bad ass mofo's.\n",
            "7                                     That is Child Abuse!!!\n",
            "8          That's right. They are not normal. And I am st...\n",
            "11         the more you whine sore loser Artster\\n\\nthe m...\n",
            "                                 ...                        \n",
            "1999493    Brother William,\\n\\nSo you are opposed to wome...\n",
            "1999494    Homosexuals are NOT pedophiles. The pedophiles...\n",
            "1999496    Right, your attempt at shaming men into silenc...\n",
            "1999504    At least twice trained law enforcement officer...\n",
            "1999512    The Democrat party aided and abetted by it's M...\n",
            "Name: comment_text, Length: 59462, dtype: object\n"
          ]
        }
      ]
    },
    {
      "cell_type": "code",
      "source": [
        "print(rslt_df['comment_text'].iloc[8])"
      ],
      "metadata": {
        "colab": {
          "base_uri": "https://localhost:8080/"
        },
        "id": "rBis9Ik7V-ZL",
        "outputId": "72200e7a-aceb-431e-c052-8eb253f66c64"
      },
      "execution_count": null,
      "outputs": [
        {
          "output_type": "stream",
          "name": "stdout",
          "text": [
            "C*nt, Tw*t, B*tch, Wh*re\n"
          ]
        }
      ]
    },
    {
      "cell_type": "markdown",
      "source": [
        "Threat Comments"
      ],
      "metadata": {
        "id": "O5gMBfpWWKjQ"
      }
    },
    {
      "cell_type": "code",
      "source": [
        "rslt_df = df_new[df_new['target_threat'] == 1].copy()\n",
        "print('\\nResult dataframe :\\n', rslt_df['comment_text'])"
      ],
      "metadata": {
        "colab": {
          "base_uri": "https://localhost:8080/"
        },
        "id": "cUhkPRIBR1Ox",
        "outputId": "534efe7e-b292-4b17-e4ff-d560eac50e73"
      },
      "execution_count": null,
      "outputs": [
        {
          "output_type": "stream",
          "name": "stdout",
          "text": [
            "\n",
            "Result dataframe :\n",
            " 1          Mad dog will surely put the liberals in mental...\n",
            "3          \"while arresting a man for resisting arrest\".\\...\n",
            "6          I really wish the DP would bounce people tryin...\n",
            "7                                     That is Child Abuse!!!\n",
            "11         the more you whine sore loser Artster\\n\\nthe m...\n",
            "                                 ...                        \n",
            "1999497    First we needed strength.  Then diversity.  Th...\n",
            "1999498    Is it better to be dead, and broke? Alive and ...\n",
            "1999499    In your rush to bash feminists, as usual you m...\n",
            "1999501    When you say speaking in code, you are adding ...\n",
            "1999514    You know the Trump fanatics are trolling the G...\n",
            "Name: comment_text, Length: 95925, dtype: object\n"
          ]
        }
      ]
    },
    {
      "cell_type": "code",
      "source": [
        "print(rslt_df['comment_text'].iloc[90])"
      ],
      "metadata": {
        "id": "ECJ_xgrFWOMA",
        "outputId": "03b5bca6-c0a9-4e2c-a5fb-65e3e7c83fd1",
        "colab": {
          "base_uri": "https://localhost:8080/"
        }
      },
      "execution_count": null,
      "outputs": [
        {
          "output_type": "stream",
          "name": "stdout",
          "text": [
            "Hang them high\n"
          ]
        }
      ]
    },
    {
      "cell_type": "markdown",
      "source": [
        "Insult Comments"
      ],
      "metadata": {
        "id": "JZjJMoMrW543"
      }
    },
    {
      "cell_type": "code",
      "source": [
        "rslt_df = df_new[df_new['target_insult'] == 1].copy()\n",
        "print('\\nResult dataframe :\\n', rslt_df['comment_text'])"
      ],
      "metadata": {
        "id": "KE92BJpmR3kp",
        "colab": {
          "base_uri": "https://localhost:8080/"
        },
        "outputId": "aa73fded-3b16-4b67-95bc-1ae53d2db5c0"
      },
      "execution_count": null,
      "outputs": [
        {
          "output_type": "stream",
          "name": "stdout",
          "text": [
            "\n",
            "Result dataframe :\n",
            " 0          He got his money... now he lies in wait till a...\n",
            "1          Mad dog will surely put the liberals in mental...\n",
            "2          And Trump continues his lifelong cowardice by ...\n",
            "3          \"while arresting a man for resisting arrest\".\\...\n",
            "4             Tucker and Paul are both total bad ass mofo's.\n",
            "                                 ...                        \n",
            "1999508    I've not said this before, but Kizla you are a...\n",
            "1999510    Another man shamming article. If white men did...\n",
            "1999512    The Democrat party aided and abetted by it's M...\n",
            "1999513    I just don't find her a very good representati...\n",
            "1999514    You know the Trump fanatics are trolling the G...\n",
            "Name: comment_text, Length: 501480, dtype: object\n"
          ]
        }
      ]
    },
    {
      "cell_type": "code",
      "source": [
        "print(rslt_df['comment_text'].iloc[30])"
      ],
      "metadata": {
        "colab": {
          "base_uri": "https://localhost:8080/"
        },
        "id": "JHZ-KEgCW9jd",
        "outputId": "9ad3bef6-2ed3-485c-c5f4-d8a427546c4e"
      },
      "execution_count": null,
      "outputs": [
        {
          "output_type": "stream",
          "name": "stdout",
          "text": [
            "\"Trump said “I’ll tell you about that maybe sometime..\"\n",
            "I predict that Trump will renege on that comment like he has done on so many of his \"promises\".\n",
            "Trump is the Liar and Thief of the USA.\n"
          ]
        }
      ]
    },
    {
      "cell_type": "markdown",
      "source": [
        "Identity Attack Comments"
      ],
      "metadata": {
        "id": "JbOZqMuGXFks"
      }
    },
    {
      "cell_type": "code",
      "source": [
        "rslt_df = df_new[df_new['target_identity_attack'] == 1].copy()\n",
        "print('\\nResult dataframe :\\n', rslt_df['comment_text'])"
      ],
      "metadata": {
        "id": "ShDFgMoyR7Rf",
        "colab": {
          "base_uri": "https://localhost:8080/"
        },
        "outputId": "4f462244-2af8-41d8-ecf0-0dce2232678d"
      },
      "execution_count": null,
      "outputs": [
        {
          "output_type": "stream",
          "name": "stdout",
          "text": [
            "\n",
            "Result dataframe :\n",
            " 1          Mad dog will surely put the liberals in mental...\n",
            "6          I really wish the DP would bounce people tryin...\n",
            "8          That's right. They are not normal. And I am st...\n",
            "10         NO !  There are no alternative facts. Go check...\n",
            "19         yep, this crap sounds like its from a libertarian\n",
            "                                 ...                        \n",
            "1999510    Another man shamming article. If white men did...\n",
            "1999511    \"no matter what is put in front of you regardi...\n",
            "1999512    The Democrat party aided and abetted by it's M...\n",
            "1999513    I just don't find her a very good representati...\n",
            "1999514    You know the Trump fanatics are trolling the G...\n",
            "Name: comment_text, Length: 211632, dtype: object\n"
          ]
        }
      ]
    },
    {
      "cell_type": "code",
      "source": [
        "print(rslt_df['comment_text'].iloc[10])"
      ],
      "metadata": {
        "colab": {
          "base_uri": "https://localhost:8080/"
        },
        "id": "UCcaU6iHXRox",
        "outputId": "33af9eb6-34c9-4f94-eeeb-49abff615fa5"
      },
      "execution_count": null,
      "outputs": [
        {
          "output_type": "stream",
          "name": "stdout",
          "text": [
            "Ok, Turkish embassy in Ottawa, here's my insult against Erdogan. He's a low-life, fascist dictator. He should be overthrown and dumped into the Black Sea. Now, try sending out your goons to do something about it.\n"
          ]
        }
      ]
    },
    {
      "cell_type": "markdown",
      "source": [
        "##Trying multiple models for toxic comment classification"
      ],
      "metadata": {
        "id": "hPMuTNesGR55"
      }
    },
    {
      "cell_type": "code",
      "source": [
        "#Train multiple models and perform 5 fold cv\n",
        "\n",
        "def get_decision_tree_model(X_train, y_train, X_test=None, y_test=None ,bool_cross_val=False):\n",
        "  if(bool_cross_val):\n",
        "    cross_val = KFold(n_splits=5,shuffle=True,random_state=101)\n",
        "    accuracies=[]\n",
        "    max_depth=[3,4,5,6,7,8,9,10,11,12]\n",
        "    for i in max_depth:\n",
        "      temp_model=DecisionTreeClassifier(max_depth=i)\n",
        "      scores=cross_val_score(temp_model,X_train,y_train,cv=cross_val,n_jobs=-1, scoring='accuracy')\n",
        "      print(f'For max_depth {i} cross_val scores are as follows :')\n",
        "      print(scores)\n",
        "      accuracies.append(scores.mean())\n",
        "      #reporting the performance\n",
        "      print(f\"The accuracy for max_depth {i}  is {scores.mean()}\")\n",
        "    sns.lineplot(x=max_depth ,y=accuracies, markers=True)\n",
        "  else:\n",
        "    max_depth=[3,4,5,6,7,8,9,10,11,12]\n",
        "    train_accuracy=[]\n",
        "    validation_accuracy=[]\n",
        "    for i in max_depth:\n",
        "      temp_model=DecisionTreeClassifier(max_depth=i)\n",
        "      temp_model.fit(X_train,y_train)\n",
        "      temp_y_pred=temp_model.predict(X_train)\n",
        "      train_accuracy.append(accuracy_score(temp_y_pred,y_train))\n",
        "      val_y_pred=temp_model.predict(X_test)\n",
        "      validation_accuracy.append(accuracy_score(val_y_pred,y_test))\n",
        "    plt.plot(max_depth, train_accuracy)\n",
        "    plt.plot(max_depth, validation_accuracy)\n",
        "    plt.legend([\"Train\", \"Validation\"])\n",
        "    plt.xlabel('Max_depth')\n",
        "    plt.ylabel('Accuracy')\n",
        "    plt.title('Train vs Validation Accuracy')\n",
        "\n",
        "def get_NB_model(X_train, y_train, X_test=None, y_test=None, bool_cross_val=False):\n",
        "  if(bool_cross_val):\n",
        "    cross_val = KFold(n_splits=5,shuffle=True,random_state=101)\n",
        "    temp_model = GaussianNB()\n",
        "    temp_model.fit(X_train,y_train)\n",
        "    scores=cross_val_score(temp_model,X_train,y_train,cv=cross_val,n_jobs=-1, scoring='accuracy')\n",
        "    print(f'The cross_val scores are as follows :')\n",
        "    print(scores)\n",
        "    #reporting the performance\n",
        "    print(f\"The accuracy after 5-fold CV is {scores.mean()}\")\n",
        "    sns.scatterplot(x=[1,2,3,4,5] ,y=scores)\n",
        "    sns.lineplot(x=[1,2,3,4,5] ,y=scores)\n",
        "  else:\n",
        "    train_accuracy=[]\n",
        "    validation_accuracy=[]\n",
        "    temp_model=GaussianNB()\n",
        "    temp_model.fit(X_train,y_train)\n",
        "    temp_y_pred=temp_model.predict(X_train)\n",
        "    train_accuracy.append(accuracy_score(temp_y_pred,y_train))\n",
        "    val_y_pred=temp_model.predict(X_test)\n",
        "    validation_accuracy.append(accuracy_score(val_y_pred,y_test))\n",
        "    print(f'Training accuracy: {train_accuracy[0]}')\n",
        "    print(f'Validation accuracy: {validation_accuracy[0]}')\n",
        "def get_Multinomial_NB_model(X_train, y_train, X_test=None, y_test=None, bool_cross_val=False):\n",
        "  if(bool_cross_val):\n",
        "    cross_val = KFold(n_splits=5,shuffle=True,random_state=101)\n",
        "    temp_model = MultinomialNB()\n",
        "    temp_model.fit(X_train,y_train)\n",
        "    scores=cross_val_score(temp_model,X_train,y_train,cv=cross_val,n_jobs=-1, scoring='accuracy')\n",
        "    print(f'The cross_val scores are as follows :')\n",
        "    print(scores)\n",
        "    #reporting the performance\n",
        "    print(f\"The accuracy after 5-fold CV is {scores.mean()}\")\n",
        "    sns.scatterplot(x=[1,2,3,4,5] ,y=scores)\n",
        "    sns.lineplot(x=[1,2,3,4,5] ,y=scores, markers=True)\n",
        "  else:\n",
        "    train_accuracy=[]\n",
        "    validation_accuracy=[]\n",
        "    temp_model=MultinomialNB()\n",
        "    temp_model.fit(X_train,y_train)\n",
        "    temp_y_pred=temp_model.predict(X_train)\n",
        "    train_accuracy.append(accuracy_score(temp_y_pred,y_train))\n",
        "    val_y_pred=temp_model.predict(X_test)\n",
        "    validation_accuracy.append(accuracy_score(val_y_pred,y_test))\n",
        "    print(f'Training accuracy: {train_accuracy[0]}')\n",
        "    print(f'Validation accuracy: {validation_accuracy[0]}')\n",
        "\n",
        "def get_RandomForest_model(X_train, y_train, X_test=None, y_test=None, bool_cross_val=False):\n",
        "  if(bool_cross_val):\n",
        "    cross_val = KFold(n_splits=5,shuffle=True,random_state=101)\n",
        "    temp_model = RandomForestClassifier(n_estimators=5,max_depth=4)\n",
        "    temp_model.fit(X_train,y_train)\n",
        "    scores=cross_val_score(temp_model,X_train,y_train,cv=cross_val,n_jobs=-1, scoring='accuracy')\n",
        "    print(f'The cross_val scores are as follows :')\n",
        "    print(scores)\n",
        "    #reporting the performance\n",
        "    print(f\"The accuracy after 5-fold CV is {scores.mean()}\")\n",
        "    sns.scatterplot(x=[1,2,3,4,5] ,y=scores)\n",
        "    sns.lineplot(x=[1,2,3,4,5] ,y=scores, markers=True)\n",
        "  else:\n",
        "    train_accuracy=[]\n",
        "    validation_accuracy=[]\n",
        "    temp_model=RandomForestClassifier(n_estimators=5,max_depth=4)\n",
        "    temp_model.fit(X_train,y_train)\n",
        "    temp_y_pred=temp_model.predict(X_train)\n",
        "    train_accuracy.append(accuracy_score(temp_y_pred,y_train))\n",
        "    val_y_pred=temp_model.predict(X_test)\n",
        "    validation_accuracy.append(accuracy_score(val_y_pred,y_test))\n",
        "    print(f'Training accuracy: {train_accuracy[0]}')\n",
        "    print(f'Validation accuracy: {validation_accuracy[0]}')\n",
        "def get_QDA_model(X_train, y_train, bool_cross_val=True):\n",
        "  \n",
        "    cross_val = KFold(n_splits=5,shuffle=True,random_state=101)\n",
        "    temp_model = QDA()\n",
        "    temp_model.fit(X_train,y_train)\n",
        "    scores=cross_val_score(temp_model,X_train,y_train,cv=cross_val,n_jobs=-1, scoring='accuracy')\n",
        "    print(f'The cross_val scores are as follows :')\n",
        "    print(scores)\n",
        "    #reporting the performance\n",
        "    print(f\"The accuracy after 5-fold CV is {scores.mean()}\")\n",
        "    sns.scatterplot(x=[1,2,3,4,5] ,y=scores)\n",
        "    sns.lineplot(x=[1,2,3,4,5] ,y=scores, markers=True)"
      ],
      "metadata": {
        "id": "72JTrKp3GYfI"
      },
      "execution_count": null,
      "outputs": []
    },
    {
      "cell_type": "code",
      "execution_count": null,
      "metadata": {
        "id": "i2PxFzlz0TST"
      },
      "outputs": [],
      "source": [
        "X_train, X_test, y_train, y_test = train_test_split(X_final, df_new[cols_target], test_size=0.2, stratify = df_new['target_toxicity'])"
      ]
    },
    {
      "cell_type": "code",
      "execution_count": null,
      "metadata": {
        "colab": {
          "base_uri": "https://localhost:8080/",
          "height": 363
        },
        "id": "2qeFQ3mP1WLc",
        "outputId": "15b1645d-1d36-46a3-a72d-d13c74d4a189"
      },
      "outputs": [
        {
          "output_type": "stream",
          "name": "stderr",
          "text": [
            "/usr/local/lib/python3.7/dist-packages/seaborn/_decorators.py:43: FutureWarning: Pass the following variable as a keyword arg: x. From version 0.12, the only valid positional argument will be `data`, and passing other arguments without an explicit keyword will result in an error or misinterpretation.\n",
            "  FutureWarning\n"
          ]
        },
        {
          "output_type": "execute_result",
          "data": {
            "text/plain": [
              "<matplotlib.axes._subplots.AxesSubplot at 0x7f0580552dd0>"
            ]
          },
          "metadata": {},
          "execution_count": 9
        },
        {
          "output_type": "display_data",
          "data": {
            "text/plain": [
              "<Figure size 432x288 with 1 Axes>"
            ],
            "image/png": "[encoded data removed]"
          },
          "metadata": {
            "needs_background": "light"
          }
        }
      ],
      "source": [
        "sns.countplot(y_train['target_toxicity'])"
      ]
    },
    {
      "cell_type": "code",
      "execution_count": null,
      "metadata": {
        "colab": {
          "base_uri": "https://localhost:8080/",
          "height": 352
        },
        "id": "XI4IQA-72qr0",
        "outputId": "9177a9dd-fdfb-4bd6-8f77-d60aa926a4bc"
      },
      "outputs": [
        {
          "output_type": "stream",
          "name": "stderr",
          "text": [
            "/usr/local/lib/python3.7/dist-packages/seaborn/_decorators.py:43: FutureWarning: Pass the following variable as a keyword arg: x. From version 0.12, the only valid positional argument will be `data`, and passing other arguments without an explicit keyword will result in an error or misinterpretation.\n",
            "  FutureWarning\n"
          ]
        },
        {
          "output_type": "execute_result",
          "data": {
            "text/plain": [
              "<matplotlib.axes._subplots.AxesSubplot at 0x7f0580552b10>"
            ]
          },
          "metadata": {},
          "execution_count": 10
        },
        {
          "output_type": "display_data",
          "data": {
            "text/plain": [
              "<Figure size 432x288 with 1 Axes>"
            ],
            "image/png": "[encoded data removed]"
          },
          "metadata": {
            "needs_background": "light"
          }
        }
      ],
      "source": [
        "sns.countplot(y_test['target_toxicity'])"
      ]
    },
    {
      "cell_type": "code",
      "execution_count": null,
      "metadata": {
        "id": "jtoGNQcd271y"
      },
      "outputs": [],
      "source": [
        "y_train_toxic = y_train['target_toxicity']"
      ]
    },
    {
      "cell_type": "code",
      "execution_count": null,
      "metadata": {
        "id": "_JS7jzQ7-6UH"
      },
      "outputs": [],
      "source": [
        "y_test_toxic = y_test['target_toxicity']"
      ]
    },
    {
      "cell_type": "markdown",
      "source": [
        "##Making Logistic regression models for other classes too"
      ],
      "metadata": {
        "id": "xXmQgRV0mI85"
      }
    },
    {
      "cell_type": "markdown",
      "source": [
        "### XGBClassifier"
      ],
      "metadata": {
        "id": "scxXvkDEQfbm"
      }
    },
    {
      "cell_type": "code",
      "execution_count": null,
      "metadata": {
        "colab": {
          "base_uri": "https://localhost:8080/"
        },
        "outputId": "dd8271e8-7874-4d51-da98-c016b97fd4a3",
        "id": "ifnx6m8fP3K7"
      },
      "outputs": [
        {
          "output_type": "stream",
          "name": "stdout",
          "text": [
            "Train accuracy: \n",
            "0.8249538012968145\n",
            "Validation accuracy: \n",
            "0.8239373047964131\n",
            "              precision    recall  f1-score   support\n",
            "\n",
            "           0       0.99      0.82      0.90    382698\n",
            "           1       0.18      0.88      0.30     17205\n",
            "\n",
            "    accuracy                           0.82    399903\n",
            "   macro avg       0.59      0.85      0.60    399903\n",
            "weighted avg       0.96      0.82      0.87    399903\n",
            "\n",
            "[[314306  68392]\n",
            " [  2016  15189]]\n"
          ]
        }
      ],
      "source": [
        "xgb = XGBClassifier(max_iter=5000)\n",
        "xgb.fit(X_train,y_train_toxic)\n",
        "temp_y_pred=xgb.predict(X_train)\n",
        "print('Train accuracy: ')\n",
        "print(accuracy_score(temp_y_pred,y_train_toxic))\n",
        "val_y_pred=xgb.predict(X_test)\n",
        "print('Validation accuracy: ')\n",
        "print(accuracy_score(val_y_pred,y_test_toxic))\n",
        "print(classification_report(val_y_pred,y_test_toxic))\n",
        "print(confusion_matrix(val_y_pred,y_test_toxic))"
      ]
    },
    {
      "cell_type": "code",
      "source": [
        "pickle.dump(xgb, open('/content/drive/MyDrive/PRML_CourseProject_ToxicComment/xgb_model_tfid_vectorizer.sav', 'wb'))"
      ],
      "metadata": {
        "id": "2O5HR57KbB_s"
      },
      "execution_count": null,
      "outputs": []
    },
    {
      "cell_type": "markdown",
      "source": [
        "### LGBMClassifier"
      ],
      "metadata": {
        "id": "h6-KuPa_Q5Oo"
      }
    },
    {
      "cell_type": "code",
      "execution_count": null,
      "metadata": {
        "colab": {
          "base_uri": "https://localhost:8080/"
        },
        "id": "eCtzUQZlQ5Oo",
        "outputId": "99f9d626-f215-448e-fe5a-f352d2575c16"
      },
      "outputs": [
        {
          "output_type": "stream",
          "name": "stdout",
          "text": [
            "Train accuracy: \n",
            "0.8540489818781054\n",
            "Validation accuracy: \n",
            "0.8516315206437561\n",
            "              precision    recall  f1-score   support\n",
            "\n",
            "           0       0.97      0.86      0.91    357887\n",
            "           1       0.40      0.79      0.53     42016\n",
            "\n",
            "    accuracy                           0.85    399903\n",
            "   macro avg       0.68      0.82      0.72    399903\n",
            "weighted avg       0.91      0.85      0.87    399903\n",
            "\n",
            "[[307438  50449]\n",
            " [  8884  33132]]\n"
          ]
        }
      ],
      "source": [
        "lgb = LGBMClassifier(max_iter=5000)\n",
        "lgb.fit(X_train,y_train_toxic)\n",
        "temp_y_pred=lgb.predict(X_train)\n",
        "print('Train accuracy: ')\n",
        "print(accuracy_score(temp_y_pred,y_train_toxic))\n",
        "val_y_pred=lgb.predict(X_test)\n",
        "print('Validation accuracy: ')\n",
        "print(accuracy_score(val_y_pred,y_test_toxic))\n",
        "print(classification_report(val_y_pred,y_test_toxic))\n",
        "print(confusion_matrix(val_y_pred,y_test_toxic))"
      ]
    },
    {
      "cell_type": "code",
      "source": [
        "X_train= pd.read_csv(\"/content/drive/MyDrive/PRML_COURSE_PROJECT/X_train.csv\")\n",
        "X_test= pd.read_csv(\"/content/drive/MyDrive/PRML_COURSE_PROJECT/X_test.csv\")\n",
        "y_train= pd.read_csv(\"/content/drive/MyDrive/PRML_COURSE_PROJECT/y_train.csv\")\n",
        "y_test= pd.read_csv(\"/content/drive/MyDrive/PRML_COURSE_PROJECT/y_test.csv\")"
      ],
      "metadata": {
        "id": "_ty_5EAKvlUp"
      },
      "execution_count": null,
      "outputs": []
    },
    {
      "cell_type": "code",
      "source": [
        "y_train = y_train['target']\n",
        "y_test = y_test['target']"
      ],
      "metadata": {
        "id": "yh5XbJWE3JAR"
      },
      "execution_count": null,
      "outputs": []
    },
    {
      "cell_type": "markdown",
      "source": [
        "### Naive Bayes Model"
      ],
      "metadata": {
        "id": "Lws5ygXkbahP"
      }
    },
    {
      "cell_type": "code",
      "source": [
        "get_NB_model(X_train,y_train,X_test,y_test,True)"
      ],
      "metadata": {
        "colab": {
          "base_uri": "https://localhost:8080/",
          "height": 317
        },
        "id": "pusTwDxa6RGd",
        "outputId": "f285de7c-5c53-4600-f918-da5cec3babe7"
      },
      "execution_count": null,
      "outputs": [
        {
          "output_type": "stream",
          "name": "stdout",
          "text": [
            "The cross_val scores are as follows :\n",
            "[0.25594909 0.26117535 0.25415883 0.26088859 0.26046661]\n",
            "The accuracy after 5-fold CV is 0.2585276929223791\n"
          ]
        },
        {
          "output_type": "display_data",
          "data": {
            "text/plain": [
              "<Figure size 432x288 with 1 Axes>"
            ],
            "image/png": "[encoded data removed]"
          },
          "metadata": {
            "needs_background": "light"
          }
        }
      ]
    },
    {
      "cell_type": "markdown",
      "source": [
        "### Multinomial Naive Bayes Model"
      ],
      "metadata": {
        "id": "SL7hSa3RoSVu"
      }
    },
    {
      "cell_type": "code",
      "source": [
        "get_Multinomial_NB_model(X_train,y_train,X_test,y_test,True)"
      ],
      "metadata": {
        "colab": {
          "base_uri": "https://localhost:8080/",
          "height": 321
        },
        "id": "FqoowhCs6WcS",
        "outputId": "0e0996b9-9de3-49f1-8592-38f2609ed709"
      },
      "execution_count": null,
      "outputs": [
        {
          "output_type": "stream",
          "name": "stdout",
          "text": [
            "The cross_val scores are as follows :\n",
            "[0.40698231 0.40938601 0.40930914 0.40692731 0.4070961 ]\n",
            "The accuracy after 5-fold CV is 0.40794017518750597\n"
          ]
        },
        {
          "output_type": "display_data",
          "data": {
            "text/plain": [
              "<Figure size 432x288 with 1 Axes>"
            ],
            "image/png": "[encoded data removed]"
          },
          "metadata": {
            "needs_background": "light"
          }
        }
      ]
    },
    {
      "cell_type": "markdown",
      "source": [
        "### Random Forest Model"
      ],
      "metadata": {
        "id": "TP8pQ0s_oWU5"
      }
    },
    {
      "cell_type": "code",
      "source": [
        "get_RandomForest_model(X_train,y_train,X_test,y_test,True)"
      ],
      "metadata": {
        "colab": {
          "base_uri": "https://localhost:8080/",
          "height": 317
        },
        "id": "PdKW9zfN6eGg",
        "outputId": "9a078afc-fc6d-4a2e-81e5-ff17a57f16fe"
      },
      "execution_count": null,
      "outputs": [
        {
          "output_type": "stream",
          "name": "stdout",
          "text": [
            "The cross_val scores are as follows :\n",
            "[0.92077156 0.9192837  0.92038059 0.92047124 0.91957415]\n",
            "The accuracy after 5-fold CV is 0.9200962484260143\n"
          ]
        },
        {
          "output_type": "display_data",
          "data": {
            "text/plain": [
              "<Figure size 432x288 with 1 Axes>"
            ],
            "image/png": "[encoded data removed]"
          },
          "metadata": {
            "needs_background": "light"
          }
        }
      ]
    },
    {
      "cell_type": "markdown",
      "source": [
        "### Quadratic Discriminant Analysis Model"
      ],
      "metadata": {
        "id": "pOi1Da3CoZ5x"
      }
    },
    {
      "cell_type": "code",
      "source": [
        "get_QDA_model(X_train, y_train) "
      ],
      "metadata": {
        "colab": {
          "base_uri": "https://localhost:8080/",
          "height": 317
        },
        "id": "aqrx23YbbaBu",
        "outputId": "690ad4c4-d924-471c-cb47-3dfe2e428faf"
      },
      "execution_count": null,
      "outputs": [
        {
          "output_type": "stream",
          "name": "stdout",
          "text": [
            "The cross_val scores are as follows :\n",
            "[0.25456751 0.26001882 0.25238964 0.26003838 0.25951638]\n",
            "The accuracy after 5-fold CV is 0.25730614675682056\n"
          ]
        },
        {
          "output_type": "display_data",
          "data": {
            "text/plain": [
              "<Figure size 432x288 with 1 Axes>"
            ],
            "image/png": "[encoded data removed]"
          },
          "metadata": {
            "needs_background": "light"
          }
        }
      ]
    },
    {
      "cell_type": "code",
      "source": [
        "X_train=X_train.iloc[:,1:]"
      ],
      "metadata": {
        "id": "nHUBu_MMfIy7"
      },
      "execution_count": null,
      "outputs": []
    },
    {
      "cell_type": "code",
      "source": [
        "X_test=X_test.iloc[:,1:]"
      ],
      "metadata": {
        "id": "PSvWipd4e0g0"
      },
      "execution_count": null,
      "outputs": []
    },
    {
      "cell_type": "markdown",
      "source": [
        "### Neural Networks Model"
      ],
      "metadata": {
        "id": "vrnF2psgogrB"
      }
    },
    {
      "cell_type": "code",
      "source": [
        "model = Sequential()\n",
        "model.add(Dense(12, input_dim=60, activation='relu'))\n",
        "model.add(Dense(8, activation='relu'))\n",
        "model.add(Dense(1, activation='sigmoid'))"
      ],
      "metadata": {
        "id": "gBpIQ44zejgm"
      },
      "execution_count": null,
      "outputs": []
    },
    {
      "cell_type": "code",
      "source": [
        "model.compile(loss='binary_crossentropy', optimizer='adam', metrics=['accuracy'])"
      ],
      "metadata": {
        "id": "__VIsRBMeqES"
      },
      "execution_count": null,
      "outputs": []
    },
    {
      "cell_type": "code",
      "source": [
        "model.fit(X_train, y_train, epochs=100, batch_size=64)"
      ],
      "metadata": {
        "id": "iOZj1f6NetLq"
      },
      "execution_count": null,
      "outputs": []
    },
    {
      "cell_type": "code",
      "source": [
        "_, accuracy = model.evaluate(X_train, y_train)\n",
        "print('Accuracy: %.2f' % (accuracy*100))"
      ],
      "metadata": {
        "colab": {
          "base_uri": "https://localhost:8080/"
        },
        "id": "wFOcI9gqkf6i",
        "outputId": "2b6a7730-bf33-4075-8d7a-b7d7a413a415"
      },
      "execution_count": null,
      "outputs": [
        {
          "output_type": "stream",
          "name": "stdout",
          "text": [
            "49988/49988 [==============================] - 146s 2ms/step - loss: 0.2786 - accuracy: 0.9201\n",
            "Accuracy: 92.01\n"
          ]
        }
      ]
    },
    {
      "cell_type": "code",
      "source": [
        "_, accuracy = model.evaluate(X_test, y_test)\n",
        "print('Accuracy: %.2f' % (accuracy*100))"
      ],
      "metadata": {
        "colab": {
          "base_uri": "https://localhost:8080/"
        },
        "id": "XIn_sCYsk0Q0",
        "outputId": "f6a49268-bc92-4bad-92b5-98e894e575cf"
      },
      "execution_count": null,
      "outputs": [
        {
          "output_type": "stream",
          "name": "stdout",
          "text": [
            "12497/12497 [==============================] - 20s 2ms/step - loss: 0.2793 - accuracy: 0.9201\n",
            "Accuracy: 92.01\n"
          ]
        }
      ]
    },
    {
      "cell_type": "code",
      "source": [
        "pred=model.predict(X_test)"
      ],
      "metadata": {
        "id": "qYdgb2cXnOSA"
      },
      "execution_count": null,
      "outputs": []
    },
    {
      "cell_type": "code",
      "source": [
        "pred = [1 if y_v>=0.5 else 0 for y_v in pred]"
      ],
      "metadata": {
        "id": "zby23NP4nuo2"
      },
      "execution_count": null,
      "outputs": []
    },
    {
      "cell_type": "code",
      "source": [
        "print(classification_report(y_test, pred))\n",
        "print(confusion_matrix(y_test, pred))\n",
        "print(accuracy_score(y_test, pred))"
      ],
      "metadata": {
        "colab": {
          "base_uri": "https://localhost:8080/"
        },
        "id": "N4Lz5LZGnoFR",
        "outputId": "d14d66b8-d6db-4af6-ea4c-c5f5a7cc6b58"
      },
      "execution_count": null,
      "outputs": [
        {
          "output_type": "stream",
          "name": "stdout",
          "text": [
            "              precision    recall  f1-score   support\n",
            "\n",
            "           0       0.92      1.00      0.96    367947\n",
            "           1       0.00      0.00      0.00     31956\n",
            "\n",
            "    accuracy                           0.92    399903\n",
            "   macro avg       0.46      0.50      0.48    399903\n",
            "weighted avg       0.85      0.92      0.88    399903\n",
            "\n",
            "[[367945      2]\n",
            " [ 31956      0]]\n",
            "0.920085620763035\n"
          ]
        }
      ]
    },
    {
      "cell_type": "markdown",
      "source": [
        "### Logistic regression model"
      ],
      "metadata": {
        "id": "g0pV36bbomLB"
      }
    },
    {
      "cell_type": "code",
      "execution_count": null,
      "metadata": {
        "colab": {
          "base_uri": "https://localhost:8080/"
        },
        "id": "akfTlzSA31Oi",
        "outputId": "5c62c3c9-26fc-426e-84de-95f332c7ed7d"
      },
      "outputs": [
        {
          "name": "stdout",
          "output_type": "stream",
          "text": [
            "Train accuracy: \n",
            "0.865729314358732\n",
            "Validation accuracy: \n",
            "0.861911513542034\n",
            "              precision    recall  f1-score   support\n",
            "\n",
            "           0       0.96      0.88      0.92    347068\n",
            "           1       0.49      0.77      0.60     52835\n",
            "\n",
            "    accuracy                           0.86    399903\n",
            "   macro avg       0.72      0.82      0.76    399903\n",
            "weighted avg       0.90      0.86      0.87    399903\n",
            "\n",
            "[[304084  42984]\n",
            " [ 12238  40597]]\n"
          ]
        }
      ],
      "source": [
        "logreg = LogisticRegression(max_iter=5000)\n",
        "logreg.fit(X_train,y_train_toxic)\n",
        "temp_y_pred=logreg.predict(X_train)\n",
        "print('Train accuracy: ')\n",
        "print(accuracy_score(temp_y_pred,y_train_toxic))\n",
        "val_y_pred=logreg.predict(X_test)\n",
        "print('Validation accuracy: ')\n",
        "print(accuracy_score(val_y_pred,y_test_toxic))\n",
        "print(classification_report(val_y_pred,y_test_toxic))\n",
        "print(confusion_matrix(val_y_pred,y_test_toxic))"
      ]
    },
    {
      "cell_type": "code",
      "execution_count": null,
      "metadata": {
        "id": "sjD25xel4xxi"
      },
      "outputs": [],
      "source": [
        "pickle.dump(logreg, open('/content/drive/MyDrive/PRML_CourseProject_ToxicComment/logreg_model_tfid_vectorizer.sav', 'wb'))"
      ]
    },
    {
      "cell_type": "markdown",
      "source": [
        "### Logistic regression selected(Made a sepecific function for it)"
      ],
      "metadata": {
        "id": "PYKqoK0morOr"
      }
    },
    {
      "cell_type": "code",
      "source": [
        "#Function to train model and save it for each individual class (obscene, identity_attack) etc\n",
        "def train_logreg_model_and_save(class_str):\n",
        "\n",
        "  X_train, X_test, y_train, y_test = train_test_split(X_final, df_new[cols_target], test_size=0.2, stratify = df_new['target_'+class_str])\n",
        "  y_train_class_str = y_train['target_' + class_str]\n",
        "  y_test_class_str = y_test['target_' + class_str]\n",
        "  logreg = LogisticRegression(max_iter=5000)\n",
        "  logreg.fit(X_train,y_train_class_str)\n",
        "  temp_y_pred=logreg.predict(X_train)\n",
        "  print('Train accuracy: ')\n",
        "  print(accuracy_score(temp_y_pred,y_train_class_str))\n",
        "  val_y_pred=logreg.predict(X_test)\n",
        "  print('Validation accuracy: ')\n",
        "  print(accuracy_score(val_y_pred,y_test_class_str))\n",
        "  print(classification_report(val_y_pred,y_test_class_str))\n",
        "  print(confusion_matrix(val_y_pred,y_test_class_str))\n",
        "  pickle.dump(logreg, open('/content/drive/MyDrive/PRML_CourseProject_ToxicComment/logreg_model_'+class_str +'_tfid_vectorizer.sav', 'wb'))"
      ],
      "metadata": {
        "id": "WU3gLCE-eqkv"
      },
      "execution_count": null,
      "outputs": []
    },
    {
      "cell_type": "markdown",
      "source": [
        "Building logistic regression model for 'sexual explicit' class"
      ],
      "metadata": {
        "id": "ereHqfoYPQ86"
      }
    },
    {
      "cell_type": "code",
      "source": [
        "train_logreg_model_and_save('sexual_explicit')"
      ],
      "metadata": {
        "colab": {
          "base_uri": "https://localhost:8080/"
        },
        "id": "rLkf9DQDPZa2",
        "outputId": "912f62d2-1929-41e4-ec49-0eac9b382f22"
      },
      "execution_count": null,
      "outputs": [
        {
          "output_type": "stream",
          "name": "stdout",
          "text": [
            "Train accuracy: \n",
            "0.976634958977552\n",
            "Validation accuracy: \n",
            "0.9757991312893377\n",
            "              precision    recall  f1-score   support\n",
            "\n",
            "           0       1.00      0.98      0.99    395329\n",
            "           1       0.29      0.74      0.41      4574\n",
            "\n",
            "    accuracy                           0.98    399903\n",
            "   macro avg       0.64      0.86      0.70    399903\n",
            "weighted avg       0.99      0.98      0.98    399903\n",
            "\n",
            "[[386831   8498]\n",
            " [  1180   3394]]\n"
          ]
        }
      ]
    },
    {
      "cell_type": "markdown",
      "source": [
        "Building logistic regression model for 'funny' class"
      ],
      "metadata": {
        "id": "NHjkfyy3PaLm"
      }
    },
    {
      "cell_type": "code",
      "source": [
        "train_logreg_model_and_save('funny')"
      ],
      "metadata": {
        "colab": {
          "base_uri": "https://localhost:8080/"
        },
        "id": "Vut7OnqtPmtu",
        "outputId": "4dabb283-8211-482a-e009-23d5ecdfc871"
      },
      "execution_count": null,
      "outputs": [
        {
          "output_type": "stream",
          "name": "stdout",
          "text": [
            "Train accuracy: \n",
            "0.859340265014266\n",
            "Validation accuracy: \n",
            "0.8587307422049847\n",
            "              precision    recall  f1-score   support\n",
            "\n",
            "           0       1.00      0.86      0.92    398781\n",
            "           1       0.01      0.46      0.02      1122\n",
            "\n",
            "    accuracy                           0.86    399903\n",
            "   macro avg       0.50      0.66      0.47    399903\n",
            "weighted avg       1.00      0.86      0.92    399903\n",
            "\n",
            "[[342895  55886]\n",
            " [   608    514]]\n"
          ]
        }
      ]
    },
    {
      "cell_type": "markdown",
      "source": [
        "Building logistic regression model for 'obscene' class"
      ],
      "metadata": {
        "id": "IE-agsW9PnCQ"
      }
    },
    {
      "cell_type": "code",
      "source": [
        "train_logreg_model_and_save('obscene')"
      ],
      "metadata": {
        "colab": {
          "base_uri": "https://localhost:8080/"
        },
        "id": "90Ab1xLNPq8_",
        "outputId": "7b6fec15-2dcf-41b5-b1de-c3d775595deb"
      },
      "execution_count": null,
      "outputs": [
        {
          "output_type": "stream",
          "name": "stdout",
          "text": [
            "Train accuracy: \n",
            "0.9509837385566\n",
            "Validation accuracy: \n",
            "0.9498228320367689\n",
            "              precision    recall  f1-score   support\n",
            "\n",
            "           0       0.99      0.96      0.97    386723\n",
            "           1       0.38      0.80      0.51     13180\n",
            "\n",
            "    accuracy                           0.95    399903\n",
            "   macro avg       0.68      0.88      0.74    399903\n",
            "weighted avg       0.97      0.95      0.96    399903\n",
            "\n",
            "[[369330  17393]\n",
            " [  2673  10507]]\n"
          ]
        }
      ]
    },
    {
      "cell_type": "markdown",
      "source": [
        "Building logistic regression model for 'threat' class"
      ],
      "metadata": {
        "id": "eE9-r_A9PrgB"
      }
    },
    {
      "cell_type": "code",
      "source": [
        "train_logreg_model_and_save('threat')"
      ],
      "metadata": {
        "colab": {
          "base_uri": "https://localhost:8080/"
        },
        "id": "eQXR1mKVPv0h",
        "outputId": "58225906-71db-4597-b8ac-0d0b091d3af2"
      },
      "execution_count": null,
      "outputs": [
        {
          "output_type": "stream",
          "name": "stdout",
          "text": [
            "Train accuracy: \n",
            "0.9548152927084818\n",
            "Validation accuracy: \n",
            "0.9537562858993306\n",
            "              precision    recall  f1-score   support\n",
            "\n",
            "           0       0.99      0.96      0.98    395143\n",
            "           1       0.14      0.57      0.23      4760\n",
            "\n",
            "    accuracy                           0.95    399903\n",
            "   macro avg       0.57      0.77      0.60    399903\n",
            "weighted avg       0.98      0.95      0.97    399903\n",
            "\n",
            "[[378684  16459]\n",
            " [  2034   2726]]\n"
          ]
        }
      ]
    },
    {
      "cell_type": "markdown",
      "source": [
        "Building logistic regression model for 'identity_attack' class"
      ],
      "metadata": {
        "id": "PeJFZEWuPwOO"
      }
    },
    {
      "cell_type": "code",
      "source": [
        "train_logreg_model_and_save('identity_attack')"
      ],
      "metadata": {
        "colab": {
          "base_uri": "https://localhost:8080/"
        },
        "id": "fiKKzPSrPzGX",
        "outputId": "a3830ca1-0ad5-4d08-e948-dce2377e8c17"
      },
      "execution_count": null,
      "outputs": [
        {
          "output_type": "stream",
          "name": "stdout",
          "text": [
            "Train accuracy: \n",
            "0.9127644703840682\n",
            "Validation accuracy: \n",
            "0.9111884632023266\n",
            "              precision    recall  f1-score   support\n",
            "\n",
            "           0       0.98      0.92      0.95    381977\n",
            "           1       0.29      0.69      0.41     17926\n",
            "\n",
            "    accuracy                           0.91    399903\n",
            "   macro avg       0.64      0.81      0.68    399903\n",
            "weighted avg       0.95      0.91      0.93    399903\n",
            "\n",
            "[[352019  29958]\n",
            " [  5558  12368]]\n"
          ]
        }
      ]
    },
    {
      "cell_type": "markdown",
      "source": [
        "Building logistic regression model for 'insult' class"
      ],
      "metadata": {
        "id": "SXE3RbpAPzbe"
      }
    },
    {
      "cell_type": "code",
      "source": [
        "train_logreg_model_and_save('insult')"
      ],
      "metadata": {
        "colab": {
          "base_uri": "https://localhost:8080/"
        },
        "id": "9eLOQ8uEP4Z6",
        "outputId": "a28dd71a-4dc1-41c4-96c1-cbeb72e65a4b"
      },
      "execution_count": null,
      "outputs": [
        {
          "output_type": "stream",
          "name": "stdout",
          "text": [
            "Train accuracy: \n",
            "0.8404463082297458\n",
            "Validation accuracy: \n",
            "0.8351075135720413\n",
            "              precision    recall  f1-score   support\n",
            "\n",
            "           0       0.95      0.85      0.90    336144\n",
            "           1       0.49      0.77      0.60     63759\n",
            "\n",
            "    accuracy                           0.84    399903\n",
            "   macro avg       0.72      0.81      0.75    399903\n",
            "weighted avg       0.88      0.84      0.85    399903\n",
            "\n",
            "[[284905  51239]\n",
            " [ 14702  49057]]\n"
          ]
        }
      ]
    },
    {
      "cell_type": "markdown",
      "source": [
        "##Evaluating the different models used"
      ],
      "metadata": {
        "id": "7ZcjLU0OrfjE"
      }
    },
    {
      "cell_type": "code",
      "source": [
        "x2 = PrettyTable()\n",
        "x2.add_row([\"  \", \"  \", \"  \", \"  \", \"Non-Toxic Class\", \"  \",\"  \", \"Toxic Class\", \"  \"])\n",
        "x2.add_row([\"Model Name\", \"Training Accuracy\", \"Test Accuracy\", \"Precision\", \"Recall\", \"F1-score\",\"Precision\", \"Recall\", \"F1-score\"])\n",
        "x2.add_row(['XGBClassifier',0.8249, 0.8239, 0.99, 0.82, 0.90, 0.18, 0.88, 0.30])\n",
        "x2.add_row(['LightGBMClassifier', 0.8540, 0.8516, 0.97, 0.86, 0.91, 0.40, 0.79, 0.53])\n",
        "x2.add_row(['Gaussian NB', 0.2587, 0.2357, '-','-','-','-','-','-'])\n",
        "x2.add_row(['Multinomial NB',0.4079, 0.2357, '-','-','-','-','-','-'])\n",
        "x2.add_row(['QDA',0.2573, 0.2381, '-','-','-','-','-','-'])\n",
        "x2.add_row(['Random Forest',0.9200, 0.9159, 0.99, 0.92, 0.95, 0.58, 0.87, 0.69])\n",
        "x2.add_row(['Logictic Regression',0.8657, 0.8619, 0.96, 0.85, 0.92, 0.59, 0.89, 0.71])\n",
        "x2.add_row(['MLP',0.9213, 0.9056, 0.92, 1, 0.96, 0.00, 0.00, 0.00])\n",
        "print(x2)"
      ],
      "metadata": {
        "colab": {
          "base_uri": "https://localhost:8080/"
        },
        "id": "NiZ4-Tnsrmkb",
        "outputId": "12220045-c557-4f3a-dae8-0f798a3f02fb"
      },
      "execution_count": null,
      "outputs": [
        {
          "output_type": "stream",
          "name": "stdout",
          "text": [
            "+---------------------+-------------------+---------------+-----------+-----------------+----------+-----------+-------------+----------+\n",
            "|       Field 1       |      Field 2      |    Field 3    |  Field 4  |     Field 5     | Field 6  |  Field 7  |   Field 8   | Field 9  |\n",
            "+---------------------+-------------------+---------------+-----------+-----------------+----------+-----------+-------------+----------+\n",
            "|                     |                   |               |           | Non-Toxic Class |          |           | Toxic Class |          |\n",
            "|      Model Name     | Training Accuracy | Test Accuracy | Precision |      Recall     | F1-score | Precision |    Recall   | F1-score |\n",
            "|    XGBClassifier    |       0.8249      |     0.8239    |    0.99   |       0.82      |   0.9    |    0.18   |     0.88    |   0.3    |\n",
            "|  LightGBMClassifier |       0.854       |     0.8516    |    0.97   |       0.86      |   0.91   |    0.4    |     0.79    |   0.53   |\n",
            "|     Gaussian NB     |       0.2587      |     0.2357    |     -     |        -        |    -     |     -     |      -      |    -     |\n",
            "|    Multinomial NB   |       0.4079      |     0.2357    |     -     |        -        |    -     |     -     |      -      |    -     |\n",
            "|         QDA         |       0.2573      |     0.2381    |     -     |        -        |    -     |     -     |      -      |    -     |\n",
            "|    Random Forest    |        0.92       |     0.9159    |    0.99   |       0.92      |   0.95   |    0.58   |     0.87    |   0.69   |\n",
            "| Logictic Regression |       0.8657      |     0.8619    |    0.96   |       0.85      |   0.92   |    0.59   |     0.89    |   0.71   |\n",
            "|         MLP         |       0.9213      |     0.9056    |    0.92   |        1        |   0.96   |    0.0    |     0.0     |   0.0    |\n",
            "+---------------------+-------------------+---------------+-----------+-----------------+----------+-----------+-------------+----------+\n"
          ]
        }
      ]
    },
    {
      "cell_type": "code",
      "source": [
        "x2 = PrettyTable()\n",
        "x2.title = 'Scores on sub-class of Toxic Comment Using Logistic Regression'\n",
        "\n",
        "x2.field_names = [\"Sub-Class\",\"Precision_0\", \"Recall_0\", \"F1-score_0\",\"Precision_1\", \"Recall_1\", \"F1-score_1\"]\n",
        "x2.add_row([\"  \",\"  \", \"Non-Toxic Class\", \"  \",\"  \", \"Toxic Class\", \"  \"])\n",
        "x2.add_row(['Sexual_explicit', 1, 0.98,0.99, 0.29, 0.74, 0.41])\n",
        "x2.add_row(['funny', 1, 0.86,0.92, 0.01, 0.46, 0.02])\n",
        "x2.add_row(['obscene', 0.99, 0.96,0.97, 0.38, 0.80, 0.51])\n",
        "x2.add_row(['threat', 0.99, 0.96,0.98, 0.14, 0.57, 0.23])\n",
        "x2.add_row(['identity_attack', 0.98, 0.92,0.95, 0.29, 0.69, 0.41])\n",
        "x2.add_row(['insult', 0.95, 0.85,0.90, 0.49, 0.77, 0.60])\n",
        "print(x2)"
      ],
      "metadata": {
        "id": "vFNBZjaFatnU",
        "colab": {
          "base_uri": "https://localhost:8080/"
        },
        "outputId": "c83957b2-4c57-4e36-d6c9-d7aae058ec5f"
      },
      "execution_count": null,
      "outputs": [
        {
          "output_type": "stream",
          "name": "stdout",
          "text": [
            "+-------------------------------------------------------------------------------------------------------+\n",
            "|                     Scores on sub-class of Toxic Comment Using Logistic Regression                    |\n",
            "+-----------------+-------------+-----------------+------------+-------------+-------------+------------+\n",
            "|    Sub-Class    | Precision_0 |     Recall_0    | F1-score_0 | Precision_1 |   Recall_1  | F1-score_1 |\n",
            "+-----------------+-------------+-----------------+------------+-------------+-------------+------------+\n",
            "|                 |             | Non-Toxic Class |            |             | Toxic Class |            |\n",
            "| Sexual_explicit |      1      |       0.98      |    0.99    |     0.29    |     0.74    |    0.41    |\n",
            "|      funny      |      1      |       0.86      |    0.92    |     0.01    |     0.46    |    0.02    |\n",
            "|     obscene     |     0.99    |       0.96      |    0.97    |     0.38    |     0.8     |    0.51    |\n",
            "|      threat     |     0.99    |       0.96      |    0.98    |     0.14    |     0.57    |    0.23    |\n",
            "| identity_attack |     0.98    |       0.92      |    0.95    |     0.29    |     0.69    |    0.41    |\n",
            "|      insult     |     0.95    |       0.85      |    0.9     |     0.49    |     0.77    |    0.6     |\n",
            "+-----------------+-------------+-----------------+------------+-------------+-------------+------------+\n"
          ]
        }
      ]
    },
    {
      "cell_type": "code",
      "source": [
        "f1_scores = [0.3, 0.53, 0.69, 0.71, 0.0]\n",
        "model_names=['XGBClassifier', 'LightGBM Classifier', 'Random Forest', 'Logistic Regression', 'MLP']\n",
        "test_accuracies = [0.8239, 0.8516, 0.9159, 0.8619, 0.9056]"
      ],
      "metadata": {
        "id": "rJx5ml3g2esw"
      },
      "execution_count": null,
      "outputs": []
    },
    {
      "cell_type": "code",
      "source": [
        "import matplotlib.pyplot as plt\n",
        "plt.bar(model_names, f1_scores) \n",
        "\n",
        "# Define x-axis label\n",
        "plt.xticks(rotation = 45)\n",
        "plt.xlabel(\"Models\")\n",
        "plt.ylabel(\"F1-Scores\")\n",
        "plt.title('F1-Score Comparison')\n",
        "# Display Graph\n",
        "\n",
        "plt.show()"
      ],
      "metadata": {
        "colab": {
          "base_uri": "https://localhost:8080/",
          "height": 361
        },
        "id": "BMpmpubO3IUf",
        "outputId": "972d864e-c82a-49bd-bff4-7eede4b05ba8"
      },
      "execution_count": null,
      "outputs": [
        {
          "output_type": "display_data",
          "data": {
            "text/plain": [
              "<Figure size 432x288 with 1 Axes>"
            ],
            "image/png": "[encoded data removed]"
          },
          "metadata": {
            "needs_background": "light"
          }
        }
      ]
    },
    {
      "cell_type": "code",
      "source": [
        "plt.bar(model_names, test_accuracies) \n",
        "\n",
        "# Define x-axis label\n",
        "plt.xticks(rotation = 45)\n",
        "plt.xlabel(\"Models\")\n",
        "plt.ylabel(\"Test Accuracy\")\n",
        "plt.title('Accuracy Comparison')\n",
        "# Display Graph\n",
        "\n",
        "plt.show()"
      ],
      "metadata": {
        "colab": {
          "base_uri": "https://localhost:8080/",
          "height": 361
        },
        "id": "0CiMhcE14Iwj",
        "outputId": "072fb969-7b11-4e8a-eda3-b6b872f2bd1c"
      },
      "execution_count": null,
      "outputs": [
        {
          "output_type": "display_data",
          "data": {
            "text/plain": [
              "<Figure size 432x288 with 1 Axes>"
            ],
            "image/png": "[encoded data removed]"
          },
          "metadata": {
            "needs_background": "light"
          }
        }
      ]
    },
    {
      "cell_type": "markdown",
      "source": [
        "##Pipelining the entire process"
      ],
      "metadata": {
        "id": "eqY09cwEbX40"
      }
    },
    {
      "cell_type": "markdown",
      "source": [
        "The input comments will directly be processed(vectorised) and then we can get the results directly"
      ],
      "metadata": {
        "id": "8XsZbQg6bmBJ"
      }
    },
    {
      "cell_type": "code",
      "source": [
        "def load_models_and_vectorizer():\n",
        "  model = pickle.load(open('/content/drive/MyDrive/PRML_CourseProject_ToxicComment/logreg_model_tfid_vectorizer.sav', 'rb'))\n",
        "  model1 = pickle.load(open('/content/drive/MyDrive/PRML_CourseProject_ToxicComment/logreg_model_identity_attack_tfid_vectorizer.sav'), 'rb')\n",
        "  model2 = pickle.load(open('/content/drive/MyDrive/PRML_CourseProject_ToxicComment/logreg_model_funny_tfid_vectorizer.sav'), 'rb')\n",
        "  model3 = pickle.load(open('/content/drive/MyDrive/PRML_CourseProject_ToxicComment/logreg_model_insult_tfid_vectorizer.sav'), 'rb')\n",
        "  model4 = pickle.load(open('/content/drive/MyDrive/PRML_CourseProject_ToxicComment/logreg_model_obscene_tfid_vectorizer.sav'), 'rb')\n",
        "  model5 = pickle.load(open('/content/drive/MyDrive/PRML_CourseProject_ToxicComment/logreg_model_sexual_explicit_tfid_vectorizer.sav'), 'rb')\n",
        "  model6 = pickle.load(open('/content/drive/MyDrive/PRML_CourseProject_ToxicComment/logreg_model_threat_tfid_vectorizer.sav'), 'rb')\n",
        "  return\n",
        "stemmer = PorterStemmer()\n",
        "stop_words = set(stopwords.words('english'))\n",
        "def preprocess(text_string):\n",
        "    text_string = \"\".join([c for c in text_string if c not in string.punctuation])\n",
        "    text_string.replace('fucker', 'fuck')\n",
        "    text_string.replace('nigga', 'nigger')\n",
        "    text_string = text_string.lower() # Convert everything to lower case.\n",
        "    text_string = re.sub('[^A-Za-z0-9]+', ' ', text_string) # Remove special characters and punctuations\n",
        "    \n",
        "    x = text_string.split()\n",
        "    new_text = []\n",
        "    \n",
        "    for word in x:\n",
        "        if word not in stop_words:\n",
        "            new_text.append(stemmer.stem(word))\n",
        "            \n",
        "    text_string = ' '.join(new_text)\n",
        "    return text_string\n",
        "def pipelined_output(comment):\n",
        "  model = pickle.load(open('/content/drive/MyDrive/PRML_CourseProject_ToxicComment/logreg_model_tfid_vectorizer.sav', 'rb'))\n",
        "  model1 = pickle.load(open('/content/drive/MyDrive/PRML_CourseProject_ToxicComment/logreg_model_identity_attack_tfid_vectorizer.sav', 'rb'))\n",
        "  model2 = pickle.load(open('/content/drive/MyDrive/PRML_CourseProject_ToxicComment/logreg_model_funny_tfid_vectorizer.sav', 'rb'))\n",
        "  model3 = pickle.load(open('/content/drive/MyDrive/PRML_CourseProject_ToxicComment/logreg_model_insult_tfid_vectorizer.sav', 'rb'))\n",
        "  model4 = pickle.load(open('/content/drive/MyDrive/PRML_CourseProject_ToxicComment/logreg_model_obscene_tfid_vectorizer.sav', 'rb'))\n",
        "  model5 = pickle.load(open('/content/drive/MyDrive/PRML_CourseProject_ToxicComment/logreg_model_sexual_explicit_tfid_vectorizer.sav', 'rb'))\n",
        "  model6 = pickle.load(open('/content/drive/MyDrive/PRML_CourseProject_ToxicComment/logreg_model_threat_tfid_vectorizer.sav', 'rb'))\n",
        "  comment = preprocess(comment)\n",
        "  transformer = TfidfTransformer()\n",
        "  loaded_vec = CountVectorizer(decode_error=\"replace\",vocabulary=pickle.load(open('/content/drive/MyDrive/PRML_CourseProject_ToxicComment/feature.pkl', \"rb\")))\n",
        "  comment_pre = transformer.fit_transform(loaded_vec.fit_transform(np.array([comment])))\n",
        "  y_pred = model.predict(comment_pre.reshape(1, -1)) \n",
        "  # print(model.coef_)\n",
        "  # y_pred = 0.5\n",
        "  y_pred=(y_pred>0.50)\n",
        "  types = \"\"\n",
        "  result = \"Toxic\" if y_pred else \"Non Toxic\"\n",
        "  if(result == \"Toxic\"):\n",
        "      y_pred1 = model1.predict(comment_pre.reshape(1, -1))\n",
        "      y_pred2 = model2.predict(comment_pre.reshape(1, -1))\n",
        "      y_pred3 = model3.predict(comment_pre.reshape(1, -1))\n",
        "      y_pred4 = model4.predict(comment_pre.reshape(1, -1))\n",
        "      y_pred5 = model5.predict(comment_pre.reshape(1, -1))\n",
        "      y_pred6 = model6.predict(comment_pre.reshape(1, -1))\n",
        "    \n",
        "      if y_pred1:\n",
        "          types+= \"identity attack,\"\n",
        "      if y_pred2:\n",
        "          types+= \"funny,\"\n",
        "      if y_pred3:\n",
        "          types+= \"insult,\"\n",
        "      if y_pred4:\n",
        "          types+= \"obscene,\"\n",
        "      if y_pred5:\n",
        "          types+= \"sexual explicit,\"\n",
        "      if y_pred6:\n",
        "          types+= \"threat,\"\n",
        "      types = types[:-1]\n",
        "  print('The given comment is: '+str(result))\n",
        "  print('The subtypes of toxicity detected in the comment: '+ types)"
      ],
      "metadata": {
        "id": "EgtW6Q-Ubt1Z"
      },
      "execution_count": null,
      "outputs": []
    },
    {
      "cell_type": "code",
      "source": [
        "pipelined_output('I will kill you dumb, idiotic person. You have become the CEO of company XYZ illegaly.')"
      ],
      "metadata": {
        "id": "iM4pCEOJVoeH",
        "colab": {
          "base_uri": "https://localhost:8080/"
        },
        "outputId": "5d74405b-8135-48c4-95e5-e9b9f98d077d"
      },
      "execution_count": null,
      "outputs": [
        {
          "output_type": "stream",
          "name": "stdout",
          "text": [
            "The given comment is: Toxic\n",
            "The subtypes of toxicity detected in the comment: insult,obscene,threat\n"
          ]
        }
      ]
    },
    {
      "cell_type": "code",
      "source": [
        "pipelined_output('Hitler was the best dictator')"
      ],
      "metadata": {
        "id": "zqe2up5spmsq",
        "colab": {
          "base_uri": "https://localhost:8080/"
        },
        "outputId": "3b271e4e-81f7-4852-f6b5-f699bf4b665b"
      },
      "execution_count": null,
      "outputs": [
        {
          "output_type": "stream",
          "name": "stdout",
          "text": [
            "The given comment is: Non Toxic\n",
            "The subtypes of toxicity detected in the comment: \n"
          ]
        }
      ]
    },
    {
      "cell_type": "code",
      "source": [
        ""
      ],
      "metadata": {
        "id": "J0uEoO6D7MCD"
      },
      "execution_count": null,
      "outputs": []
    }
  ],
  "metadata": {
    "colab": {
      "name": "Toxic-Comment-Classification.ipynb",
      "provenance": [],
      "collapsed_sections": [],
      "include_colab_link": true
    },
    "kernelspec": {
      "display_name": "Python 3",
      "name": "python3"
    },
    "language_info": {
      "name": "python"
    }
  },
  "nbformat": 4,
  "nbformat_minor": 0
}